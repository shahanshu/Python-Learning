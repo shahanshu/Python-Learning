{
 "cells": [
  {
   "cell_type": "code",
   "execution_count": 1,
   "id": "4190004f-94e3-4b6c-83de-ec4ed7088282",
   "metadata": {},
   "outputs": [],
   "source": [
    "import numpy as np"
   ]
  },
  {
   "cell_type": "code",
   "execution_count": 2,
   "id": "7fc83315-21b7-440d-bb0a-895c805739f6",
   "metadata": {},
   "outputs": [],
   "source": [
    "arr2=np.array([[3,4],[3,4],[23,67]])"
   ]
  },
  {
   "cell_type": "code",
   "execution_count": 3,
   "id": "4c693eb8-d871-49fb-97d1-6d1f91ff17d6",
   "metadata": {},
   "outputs": [
    {
     "data": {
      "text/plain": [
       "array([[ 3,  4],\n",
       "       [ 3,  4],\n",
       "       [23, 67]])"
      ]
     },
     "execution_count": 3,
     "metadata": {},
     "output_type": "execute_result"
    }
   ],
   "source": [
    "arr2"
   ]
  },
  {
   "cell_type": "code",
   "execution_count": 4,
   "id": "be082019-9d98-498f-ab67-7728539661c6",
   "metadata": {},
   "outputs": [
    {
     "data": {
      "text/plain": [
       "dtype('int64')"
      ]
     },
     "execution_count": 4,
     "metadata": {},
     "output_type": "execute_result"
    }
   ],
   "source": [
    "arr2.dtype"
   ]
  },
  {
   "cell_type": "code",
   "execution_count": 5,
   "id": "63e8ea4a-9282-489f-b64e-1e68deff69ea",
   "metadata": {},
   "outputs": [
    {
     "data": {
      "text/plain": [
       "(3, 2)"
      ]
     },
     "execution_count": 5,
     "metadata": {},
     "output_type": "execute_result"
    }
   ],
   "source": [
    "arr2.shape"
   ]
  },
  {
   "cell_type": "code",
   "execution_count": 6,
   "id": "728a1902-89f0-40fa-bf81-2d5fcd67c831",
   "metadata": {},
   "outputs": [
    {
     "data": {
      "text/plain": [
       "6"
      ]
     },
     "execution_count": 6,
     "metadata": {},
     "output_type": "execute_result"
    }
   ],
   "source": [
    "arr2.size"
   ]
  },
  {
   "cell_type": "code",
   "execution_count": 7,
   "id": "a6c37dd9-d399-4e5a-943c-d47703a4d518",
   "metadata": {},
   "outputs": [],
   "source": [
    "anshu=np.array({34,23,4,5,65})"
   ]
  },
  {
   "cell_type": "code",
   "execution_count": 8,
   "id": "ff9fb95c-4b39-4fdf-9a79-1fd9752e49db",
   "metadata": {},
   "outputs": [
    {
     "data": {
      "text/plain": [
       "array({65, 34, 4, 5, 23}, dtype=object)"
      ]
     },
     "execution_count": 8,
     "metadata": {},
     "output_type": "execute_result"
    }
   ],
   "source": [
    "anshu"
   ]
  },
  {
   "cell_type": "raw",
   "id": "9494d762-d5b8-48f1-a8e9-755d87dcbf55",
   "metadata": {},
   "source": []
  },
  {
   "cell_type": "code",
   "execution_count": 9,
   "id": "a97aaa38-d742-4b4e-9ba0-d944cda93dd2",
   "metadata": {},
   "outputs": [],
   "source": [
    "zeros=np.zeros((2,3))"
   ]
  },
  {
   "cell_type": "code",
   "execution_count": 10,
   "id": "93382258-fb2b-4b82-8e54-2cc172e44c36",
   "metadata": {},
   "outputs": [
    {
     "data": {
      "text/plain": [
       "array([[0., 0., 0.],\n",
       "       [0., 0., 0.]])"
      ]
     },
     "execution_count": 10,
     "metadata": {},
     "output_type": "execute_result"
    }
   ],
   "source": [
    "zeros"
   ]
  },
  {
   "cell_type": "code",
   "execution_count": 11,
   "id": "f84c0bd4-a6d8-48b3-bcef-f9bd892d1c37",
   "metadata": {},
   "outputs": [
    {
     "data": {
      "text/plain": [
       "(2, 3)"
      ]
     },
     "execution_count": 11,
     "metadata": {},
     "output_type": "execute_result"
    }
   ],
   "source": [
    "zeros.shape"
   ]
  },
  {
   "cell_type": "code",
   "execution_count": 12,
   "id": "57e231e3-eb0f-4feb-9e75-35d524670dbe",
   "metadata": {},
   "outputs": [
    {
     "data": {
      "text/plain": [
       "dtype('float64')"
      ]
     },
     "execution_count": 12,
     "metadata": {},
     "output_type": "execute_result"
    }
   ],
   "source": [
    "zeros.dtype"
   ]
  },
  {
   "cell_type": "code",
   "execution_count": 13,
   "id": "da312cb0-3fa5-4b44-ae4f-4079234ddf67",
   "metadata": {},
   "outputs": [
    {
     "data": {
      "text/plain": [
       "6"
      ]
     },
     "execution_count": 13,
     "metadata": {},
     "output_type": "execute_result"
    }
   ],
   "source": [
    "zeros.size"
   ]
  },
  {
   "cell_type": "code",
   "execution_count": 17,
   "id": "1ba4476d-5da1-4766-a1d7-8a05f20d3529",
   "metadata": {},
   "outputs": [],
   "source": [
    "kripa=np.arange(45)"
   ]
  },
  {
   "cell_type": "code",
   "execution_count": 18,
   "id": "be544e0c-38b8-47f9-8261-d12dd103f98c",
   "metadata": {},
   "outputs": [
    {
     "data": {
      "text/plain": [
       "array([ 0,  1,  2,  3,  4,  5,  6,  7,  8,  9, 10, 11, 12, 13, 14, 15, 16,\n",
       "       17, 18, 19, 20, 21, 22, 23, 24, 25, 26, 27, 28, 29, 30, 31, 32, 33,\n",
       "       34, 35, 36, 37, 38, 39, 40, 41, 42, 43, 44])"
      ]
     },
     "execution_count": 18,
     "metadata": {},
     "output_type": "execute_result"
    }
   ],
   "source": [
    "kripa"
   ]
  },
  {
   "cell_type": "code",
   "execution_count": null,
   "id": "3a35b8be-b71e-4ed2-8ac5-4959b332b337",
   "metadata": {},
   "outputs": [],
   "source": []
  },
  {
   "cell_type": "code",
   "execution_count": 29,
   "id": "a79f6e04-ac09-4775-b893-6694398ed4ac",
   "metadata": {},
   "outputs": [],
   "source": [
    "space=np.linspace(0,50,5)"
   ]
  },
  {
   "cell_type": "code",
   "execution_count": 30,
   "id": "b7afbf41-ec40-4130-bc8e-1913d00c14ad",
   "metadata": {},
   "outputs": [
    {
     "data": {
      "text/plain": [
       "array([ 0. , 12.5, 25. , 37.5, 50. ])"
      ]
     },
     "execution_count": 30,
     "metadata": {},
     "output_type": "execute_result"
    }
   ],
   "source": [
    "space"
   ]
  },
  {
   "cell_type": "code",
   "execution_count": 26,
   "id": "d932c283-5258-4f86-8b08-eb23075c0ef1",
   "metadata": {},
   "outputs": [
    {
     "data": {
      "text/plain": [
       "dtype('float64')"
      ]
     },
     "execution_count": 26,
     "metadata": {},
     "output_type": "execute_result"
    }
   ],
   "source": [
    "space.dtype"
   ]
  },
  {
   "cell_type": "code",
   "execution_count": null,
   "id": "01cb5728-593a-499d-9205-e13c7cd3e2c9",
   "metadata": {},
   "outputs": [],
   "source": []
  }
 ],
 "metadata": {
  "kernelspec": {
   "display_name": "Python 3 (ipykernel)",
   "language": "python",
   "name": "python3"
  },
  "language_info": {
   "codemirror_mode": {
    "name": "ipython",
    "version": 3
   },
   "file_extension": ".py",
   "mimetype": "text/x-python",
   "name": "python",
   "nbconvert_exporter": "python",
   "pygments_lexer": "ipython3",
   "version": "3.13.2"
  }
 },
 "nbformat": 4,
 "nbformat_minor": 5
}
