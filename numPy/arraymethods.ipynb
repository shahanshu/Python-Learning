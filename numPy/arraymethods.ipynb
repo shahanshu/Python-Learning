{
 "cells": [
  {
   "cell_type": "code",
   "execution_count": 1,
   "id": "f850c3ed-14ee-4f58-a9d5-97b409ea4df5",
   "metadata": {},
   "outputs": [],
   "source": [
    "import numpy as np"
   ]
  },
  {
   "cell_type": "code",
   "execution_count": 2,
   "id": "071902ec-7e99-49c0-ae41-717e8db061e2",
   "metadata": {},
   "outputs": [],
   "source": [
    "myarr= np.array([3,4,5,51233],np.int64)"
   ]
  },
  {
   "cell_type": "code",
   "execution_count": 3,
   "id": "a1bf7586-22bd-4170-9a44-e48bb6da8c3e",
   "metadata": {},
   "outputs": [
    {
     "data": {
      "text/plain": [
       "np.int64(51233)"
      ]
     },
     "execution_count": 3,
     "metadata": {},
     "output_type": "execute_result"
    }
   ],
   "source": [
    "myarr[3]"
   ]
  },
  {
   "cell_type": "code",
   "execution_count": 4,
   "id": "5e67fa82-b18e-4909-b2c9-2a35354dacd9",
   "metadata": {},
   "outputs": [],
   "source": [
    "myarr2=np.array([[2,3,4,5,6,6]])"
   ]
  },
  {
   "cell_type": "code",
   "execution_count": 5,
   "id": "e747ae99-0c1f-486c-82d5-1f4655b86b5c",
   "metadata": {},
   "outputs": [
    {
     "data": {
      "text/plain": [
       "np.int64(3)"
      ]
     },
     "execution_count": 5,
     "metadata": {},
     "output_type": "execute_result"
    }
   ],
   "source": [
    "myarr2[0,1]"
   ]
  },
  {
   "cell_type": "code",
   "execution_count": 6,
   "id": "75985318-4198-4f8d-bbd5-76f412d4b11f",
   "metadata": {},
   "outputs": [
    {
     "data": {
      "text/plain": [
       "(4,)"
      ]
     },
     "execution_count": 6,
     "metadata": {},
     "output_type": "execute_result"
    }
   ],
   "source": [
    "myarr.shape"
   ]
  },
  {
   "cell_type": "code",
   "execution_count": 7,
   "id": "c7d8fe3b-8e0f-4134-8457-6ea64a99c34a",
   "metadata": {},
   "outputs": [
    {
     "data": {
      "text/plain": [
       "(1, 6)"
      ]
     },
     "execution_count": 7,
     "metadata": {},
     "output_type": "execute_result"
    }
   ],
   "source": [
    "myarr2.shape"
   ]
  },
  {
   "cell_type": "code",
   "execution_count": 8,
   "id": "1657909c-093f-4c00-9f62-37a41b453307",
   "metadata": {},
   "outputs": [
    {
     "data": {
      "text/plain": [
       "dtype('int64')"
      ]
     },
     "execution_count": 8,
     "metadata": {},
     "output_type": "execute_result"
    }
   ],
   "source": [
    "myarr.dtype"
   ]
  },
  {
   "cell_type": "code",
   "execution_count": 9,
   "id": "a617fbbe-a3a6-4db7-bd27-af71b283b724",
   "metadata": {},
   "outputs": [
    {
     "data": {
      "text/plain": [
       "array([    3,     4,     5, 51233])"
      ]
     },
     "execution_count": 9,
     "metadata": {},
     "output_type": "execute_result"
    }
   ],
   "source": [
    "myarr"
   ]
  },
  {
   "cell_type": "code",
   "execution_count": 10,
   "id": "e987bfe6-2452-4452-8b0f-dccc9a922c9e",
   "metadata": {},
   "outputs": [
    {
     "data": {
      "text/plain": [
       "np.int64(4)"
      ]
     },
     "execution_count": 10,
     "metadata": {},
     "output_type": "execute_result"
    }
   ],
   "source": [
    "myarr[1]"
   ]
  },
  {
   "cell_type": "code",
   "execution_count": 11,
   "id": "a2ed068e-75c7-44aa-a3ba-f5d00076a25a",
   "metadata": {},
   "outputs": [],
   "source": [
    "myarr[1]=100"
   ]
  },
  {
   "cell_type": "code",
   "execution_count": 12,
   "id": "de36ac27-9295-4132-9b78-76a0ae4ccb14",
   "metadata": {},
   "outputs": [
    {
     "data": {
      "text/plain": [
       "array([    3,   100,     5, 51233])"
      ]
     },
     "execution_count": 12,
     "metadata": {},
     "output_type": "execute_result"
    }
   ],
   "source": [
    "myarr"
   ]
  },
  {
   "cell_type": "code",
   "execution_count": 13,
   "id": "b99c6875-53ed-4c5e-9092-23a35993d5b0",
   "metadata": {},
   "outputs": [
    {
     "data": {
      "text/plain": [
       "(4,)"
      ]
     },
     "execution_count": 13,
     "metadata": {},
     "output_type": "execute_result"
    }
   ],
   "source": [
    "myarr.shape"
   ]
  },
  {
   "cell_type": "code",
   "execution_count": 14,
   "id": "b5bbeabd-df46-40fa-b087-92129b043d1a",
   "metadata": {},
   "outputs": [],
   "source": [
    "anshu = np.arange(1,10,2)"
   ]
  },
  {
   "cell_type": "code",
   "execution_count": 15,
   "id": "0f0ac0c8-6c71-43d3-b900-0e018d3f0e69",
   "metadata": {},
   "outputs": [
    {
     "data": {
      "text/plain": [
       "array([1, 3, 5, 7, 9])"
      ]
     },
     "execution_count": 15,
     "metadata": {},
     "output_type": "execute_result"
    }
   ],
   "source": [
    "anshu"
   ]
  },
  {
   "cell_type": "code",
   "execution_count": 16,
   "id": "a9c50bda-9e75-489d-9e88-469b2e8b56c8",
   "metadata": {},
   "outputs": [],
   "source": [
    "ls= np.linspace(1,5,12)"
   ]
  },
  {
   "cell_type": "code",
   "execution_count": 17,
   "id": "a66c4b21-2d84-4279-9ebd-49e5dd69339a",
   "metadata": {},
   "outputs": [
    {
     "data": {
      "text/plain": [
       "array([1.        , 1.36363636, 1.72727273, 2.09090909, 2.45454545,\n",
       "       2.81818182, 3.18181818, 3.54545455, 3.90909091, 4.27272727,\n",
       "       4.63636364, 5.        ])"
      ]
     },
     "execution_count": 17,
     "metadata": {},
     "output_type": "execute_result"
    }
   ],
   "source": [
    "ls"
   ]
  },
  {
   "cell_type": "code",
   "execution_count": 18,
   "id": "71086d84-471f-47bb-bfb0-ffb427f63f1a",
   "metadata": {},
   "outputs": [
    {
     "data": {
      "text/plain": [
       "12"
      ]
     },
     "execution_count": 18,
     "metadata": {},
     "output_type": "execute_result"
    }
   ],
   "source": [
    "ls.size"
   ]
  },
  {
   "cell_type": "code",
   "execution_count": 19,
   "id": "14b4513d-6785-49bb-8667-4c85679eb7f9",
   "metadata": {},
   "outputs": [
    {
     "data": {
      "text/plain": [
       "(12,)"
      ]
     },
     "execution_count": 19,
     "metadata": {},
     "output_type": "execute_result"
    }
   ],
   "source": [
    "ls.shape"
   ]
  },
  {
   "cell_type": "code",
   "execution_count": 20,
   "id": "00a56f1a-01f2-4769-99ec-1f53b3328645",
   "metadata": {},
   "outputs": [],
   "source": [
    "kripa = np.empty((2,3))"
   ]
  },
  {
   "cell_type": "code",
   "execution_count": 21,
   "id": "27481ce5-0907-4352-abe6-7a8466c90c3f",
   "metadata": {},
   "outputs": [
    {
     "name": "stdout",
     "output_type": "stream",
     "text": [
      "[[3.03422844e-086 7.70029741e+175 5.03128777e+180]\n",
      " [5.27486439e-091 1.04987629e-153 8.07846605e-013]]\n"
     ]
    }
   ],
   "source": [
    "print(kripa)"
   ]
  },
  {
   "cell_type": "code",
   "execution_count": 22,
   "id": "4e973167-83d5-4423-b4f6-b85dbc1cba63",
   "metadata": {},
   "outputs": [
    {
     "name": "stdout",
     "output_type": "stream",
     "text": [
      "[[3.03422844e-086 7.70029741e+175]\n",
      " [5.03128777e+180 5.27486439e-091]\n",
      " [1.04987629e-153 8.07846605e-013]]\n"
     ]
    }
   ],
   "source": [
    "print(np.empty((3,2)))"
   ]
  },
  {
   "cell_type": "code",
   "execution_count": 23,
   "id": "dbbef4d6-2d72-4010-9704-4f5d5140ce84",
   "metadata": {},
   "outputs": [],
   "source": [
    "keipa2= np.empty_like(myarr)"
   ]
  },
  {
   "cell_type": "code",
   "execution_count": 24,
   "id": "e29a686a-aac3-472e-b23b-9078228478cd",
   "metadata": {},
   "outputs": [
    {
     "data": {
      "text/plain": [
       "array([            0, 1596286613392, 1596286612112, 1596286613072])"
      ]
     },
     "execution_count": 24,
     "metadata": {},
     "output_type": "execute_result"
    }
   ],
   "source": [
    "keipa2\n"
   ]
  },
  {
   "cell_type": "code",
   "execution_count": 25,
   "id": "f4f9448c-2bf9-4bf5-b406-3b360deaeccf",
   "metadata": {},
   "outputs": [],
   "source": [
    "ide= np.identity(3)"
   ]
  },
  {
   "cell_type": "code",
   "execution_count": 26,
   "id": "f0d7da62-8a1a-4f1c-aaaf-9375cd50f198",
   "metadata": {},
   "outputs": [
    {
     "data": {
      "text/plain": [
       "array([[1., 0., 0.],\n",
       "       [0., 1., 0.],\n",
       "       [0., 0., 1.]])"
      ]
     },
     "execution_count": 26,
     "metadata": {},
     "output_type": "execute_result"
    }
   ],
   "source": [
    "ide"
   ]
  },
  {
   "cell_type": "code",
   "execution_count": 27,
   "id": "92b84dfc-91c1-4a02-b238-8ea931147f0d",
   "metadata": {},
   "outputs": [
    {
     "data": {
      "text/plain": [
       "(3, 3)"
      ]
     },
     "execution_count": 27,
     "metadata": {},
     "output_type": "execute_result"
    }
   ],
   "source": [
    "ide.shape"
   ]
  },
  {
   "cell_type": "code",
   "execution_count": 28,
   "id": "ca4a5f75-27b4-414d-b849-14a39d7a16f5",
   "metadata": {},
   "outputs": [
    {
     "data": {
      "text/plain": [
       "9"
      ]
     },
     "execution_count": 28,
     "metadata": {},
     "output_type": "execute_result"
    }
   ],
   "source": [
    "ide.size"
   ]
  },
  {
   "cell_type": "code",
   "execution_count": 29,
   "id": "50d6145b-3dc7-46ce-a079-24a1967818fe",
   "metadata": {},
   "outputs": [],
   "source": [
    "arr = np.arange(99)"
   ]
  },
  {
   "cell_type": "code",
   "execution_count": 30,
   "id": "7db3eac5-2a50-4758-9473-bce85acf3ce4",
   "metadata": {},
   "outputs": [
    {
     "data": {
      "text/plain": [
       "array([ 0,  1,  2,  3,  4,  5,  6,  7,  8,  9, 10, 11, 12, 13, 14, 15, 16,\n",
       "       17, 18, 19, 20, 21, 22, 23, 24, 25, 26, 27, 28, 29, 30, 31, 32, 33,\n",
       "       34, 35, 36, 37, 38, 39, 40, 41, 42, 43, 44, 45, 46, 47, 48, 49, 50,\n",
       "       51, 52, 53, 54, 55, 56, 57, 58, 59, 60, 61, 62, 63, 64, 65, 66, 67,\n",
       "       68, 69, 70, 71, 72, 73, 74, 75, 76, 77, 78, 79, 80, 81, 82, 83, 84,\n",
       "       85, 86, 87, 88, 89, 90, 91, 92, 93, 94, 95, 96, 97, 98])"
      ]
     },
     "execution_count": 30,
     "metadata": {},
     "output_type": "execute_result"
    }
   ],
   "source": [
    "arr"
   ]
  },
  {
   "cell_type": "code",
   "execution_count": 31,
   "id": "fcff00cc-65e6-453e-bc60-84a021c5a1b1",
   "metadata": {},
   "outputs": [
    {
     "data": {
      "text/plain": [
       "array([[ 0,  1,  2,  3,  4,  5,  6,  7,  8,  9, 10, 11, 12, 13, 14, 15,\n",
       "        16, 17, 18, 19, 20, 21, 22, 23, 24, 25, 26, 27, 28, 29, 30, 31,\n",
       "        32],\n",
       "       [33, 34, 35, 36, 37, 38, 39, 40, 41, 42, 43, 44, 45, 46, 47, 48,\n",
       "        49, 50, 51, 52, 53, 54, 55, 56, 57, 58, 59, 60, 61, 62, 63, 64,\n",
       "        65],\n",
       "       [66, 67, 68, 69, 70, 71, 72, 73, 74, 75, 76, 77, 78, 79, 80, 81,\n",
       "        82, 83, 84, 85, 86, 87, 88, 89, 90, 91, 92, 93, 94, 95, 96, 97,\n",
       "        98]])"
      ]
     },
     "execution_count": 31,
     "metadata": {},
     "output_type": "execute_result"
    }
   ],
   "source": [
    "arr.reshape(3,33)"
   ]
  },
  {
   "cell_type": "code",
   "execution_count": 32,
   "id": "06c9cd8d-679a-47a4-856f-b9226754d4d1",
   "metadata": {},
   "outputs": [
    {
     "data": {
      "text/plain": [
       "array([ 0,  1,  2,  3,  4,  5,  6,  7,  8,  9, 10, 11, 12, 13, 14, 15, 16,\n",
       "       17, 18, 19, 20, 21, 22, 23, 24, 25, 26, 27, 28, 29, 30, 31, 32, 33,\n",
       "       34, 35, 36, 37, 38, 39, 40, 41, 42, 43, 44, 45, 46, 47, 48, 49, 50,\n",
       "       51, 52, 53, 54, 55, 56, 57, 58, 59, 60, 61, 62, 63, 64, 65, 66, 67,\n",
       "       68, 69, 70, 71, 72, 73, 74, 75, 76, 77, 78, 79, 80, 81, 82, 83, 84,\n",
       "       85, 86, 87, 88, 89, 90, 91, 92, 93, 94, 95, 96, 97, 98])"
      ]
     },
     "execution_count": 32,
     "metadata": {},
     "output_type": "execute_result"
    }
   ],
   "source": [
    "arr"
   ]
  },
  {
   "cell_type": "code",
   "execution_count": 33,
   "id": "d3b20bc3-7b6a-4e8c-b310-e4360087cad7",
   "metadata": {},
   "outputs": [
    {
     "data": {
      "text/plain": [
       "array([[ 0,  1,  2],\n",
       "       [ 3,  4,  5],\n",
       "       [ 6,  7,  8],\n",
       "       [ 9, 10, 11],\n",
       "       [12, 13, 14],\n",
       "       [15, 16, 17],\n",
       "       [18, 19, 20],\n",
       "       [21, 22, 23],\n",
       "       [24, 25, 26],\n",
       "       [27, 28, 29],\n",
       "       [30, 31, 32],\n",
       "       [33, 34, 35],\n",
       "       [36, 37, 38],\n",
       "       [39, 40, 41],\n",
       "       [42, 43, 44],\n",
       "       [45, 46, 47],\n",
       "       [48, 49, 50],\n",
       "       [51, 52, 53],\n",
       "       [54, 55, 56],\n",
       "       [57, 58, 59],\n",
       "       [60, 61, 62],\n",
       "       [63, 64, 65],\n",
       "       [66, 67, 68],\n",
       "       [69, 70, 71],\n",
       "       [72, 73, 74],\n",
       "       [75, 76, 77],\n",
       "       [78, 79, 80],\n",
       "       [81, 82, 83],\n",
       "       [84, 85, 86],\n",
       "       [87, 88, 89],\n",
       "       [90, 91, 92],\n",
       "       [93, 94, 95],\n",
       "       [96, 97, 98]])"
      ]
     },
     "execution_count": 33,
     "metadata": {},
     "output_type": "execute_result"
    }
   ],
   "source": [
    "arr.reshape(33,3)\n"
   ]
  },
  {
   "cell_type": "code",
   "execution_count": 34,
   "id": "67c87b6e-2b87-4e12-90d6-601af5fd786d",
   "metadata": {},
   "outputs": [],
   "source": [
    "arr = arr.ravel()"
   ]
  },
  {
   "cell_type": "code",
   "execution_count": 35,
   "id": "566b1094-7e9d-455d-a11e-a7bd1e4e2173",
   "metadata": {},
   "outputs": [
    {
     "data": {
      "text/plain": [
       "array([ 0,  1,  2,  3,  4,  5,  6,  7,  8,  9, 10, 11, 12, 13, 14, 15, 16,\n",
       "       17, 18, 19, 20, 21, 22, 23, 24, 25, 26, 27, 28, 29, 30, 31, 32, 33,\n",
       "       34, 35, 36, 37, 38, 39, 40, 41, 42, 43, 44, 45, 46, 47, 48, 49, 50,\n",
       "       51, 52, 53, 54, 55, 56, 57, 58, 59, 60, 61, 62, 63, 64, 65, 66, 67,\n",
       "       68, 69, 70, 71, 72, 73, 74, 75, 76, 77, 78, 79, 80, 81, 82, 83, 84,\n",
       "       85, 86, 87, 88, 89, 90, 91, 92, 93, 94, 95, 96, 97, 98])"
      ]
     },
     "execution_count": 35,
     "metadata": {},
     "output_type": "execute_result"
    }
   ],
   "source": [
    "arr"
   ]
  },
  {
   "cell_type": "code",
   "execution_count": 36,
   "id": "440ecb32-2bb4-4ea2-a348-b2c8e2d8fad6",
   "metadata": {},
   "outputs": [
    {
     "data": {
      "text/plain": [
       "(99,)"
      ]
     },
     "execution_count": 36,
     "metadata": {},
     "output_type": "execute_result"
    }
   ],
   "source": [
    "arr.shape"
   ]
  },
  {
   "cell_type": "code",
   "execution_count": 37,
   "id": "03abf9f0-8088-44f4-849e-fa0c3944337f",
   "metadata": {},
   "outputs": [],
   "source": [
    "x= [[1,2,3],[4,5,6],[1,1,0]]"
   ]
  },
  {
   "cell_type": "code",
   "execution_count": 38,
   "id": "9ac1783c-000b-417e-8598-f83615e5a105",
   "metadata": {},
   "outputs": [],
   "source": [
    "ar= np.array(x)"
   ]
  },
  {
   "cell_type": "code",
   "execution_count": 39,
   "id": "f9c4e408-8743-4d5d-b945-89636a4154cf",
   "metadata": {},
   "outputs": [
    {
     "data": {
      "text/plain": [
       "array([[1, 2, 3],\n",
       "       [4, 5, 6],\n",
       "       [1, 1, 0]])"
      ]
     },
     "execution_count": 39,
     "metadata": {},
     "output_type": "execute_result"
    }
   ],
   "source": [
    "ar"
   ]
  },
  {
   "cell_type": "code",
   "execution_count": 40,
   "id": "90d44aa3-4ec6-4489-b67c-109244bb04de",
   "metadata": {},
   "outputs": [
    {
     "data": {
      "text/plain": [
       "array([6, 8, 9])"
      ]
     },
     "execution_count": 40,
     "metadata": {},
     "output_type": "execute_result"
    }
   ],
   "source": [
    "ar. sum( axis=0)"
   ]
  },
  {
   "cell_type": "code",
   "execution_count": 41,
   "id": "a8276307-591e-4fa5-9206-ca9837704a78",
   "metadata": {},
   "outputs": [
    {
     "data": {
      "text/plain": [
       "array([ 6, 15,  2])"
      ]
     },
     "execution_count": 41,
     "metadata": {},
     "output_type": "execute_result"
    }
   ],
   "source": [
    "ar.sum(axis=1)"
   ]
  },
  {
   "cell_type": "code",
   "execution_count": 42,
   "id": "f80475c8-a4ac-4f0b-8055-9becb88aa946",
   "metadata": {},
   "outputs": [
    {
     "data": {
      "text/plain": [
       "array([[1, 4, 1],\n",
       "       [2, 5, 1],\n",
       "       [3, 6, 0]])"
      ]
     },
     "execution_count": 42,
     "metadata": {},
     "output_type": "execute_result"
    }
   ],
   "source": [
    "ar.T"
   ]
  },
  {
   "cell_type": "code",
   "execution_count": 43,
   "id": "1addb24d-c1d8-49c6-99d2-19a94537e148",
   "metadata": {},
   "outputs": [
    {
     "data": {
      "text/plain": [
       "<numpy.flatiter at 0x173ac2113e0>"
      ]
     },
     "execution_count": 43,
     "metadata": {},
     "output_type": "execute_result"
    }
   ],
   "source": [
    "ar.flat"
   ]
  },
  {
   "cell_type": "code",
   "execution_count": 44,
   "id": "49f9f843-26ee-44c9-af22-ac3ab206a5b6",
   "metadata": {},
   "outputs": [
    {
     "name": "stdout",
     "output_type": "stream",
     "text": [
      "1\n",
      "2\n",
      "3\n",
      "4\n",
      "5\n",
      "6\n",
      "1\n",
      "1\n",
      "0\n"
     ]
    }
   ],
   "source": [
    "for i in ar.flat:\n",
    "    print(i)"
   ]
  },
  {
   "cell_type": "code",
   "execution_count": 45,
   "id": "5bede69a-6a63-4eea-9574-44afacdff4d2",
   "metadata": {},
   "outputs": [
    {
     "data": {
      "text/plain": [
       "2"
      ]
     },
     "execution_count": 45,
     "metadata": {},
     "output_type": "execute_result"
    }
   ],
   "source": [
    "ar.ndim"
   ]
  },
  {
   "cell_type": "code",
   "execution_count": 46,
   "id": "93815872-8239-4289-979d-a81482a7ed1c",
   "metadata": {},
   "outputs": [
    {
     "data": {
      "text/plain": [
       "9"
      ]
     },
     "execution_count": 46,
     "metadata": {},
     "output_type": "execute_result"
    }
   ],
   "source": [
    "ar.size"
   ]
  },
  {
   "cell_type": "code",
   "execution_count": 47,
   "id": "18942d9f-9c1c-4674-8f39-f609563b7f69",
   "metadata": {},
   "outputs": [
    {
     "data": {
      "text/plain": [
       "(3, 3)"
      ]
     },
     "execution_count": 47,
     "metadata": {},
     "output_type": "execute_result"
    }
   ],
   "source": [
    "ar.shape"
   ]
  },
  {
   "cell_type": "code",
   "execution_count": 48,
   "id": "772ec31c-1303-44a7-a610-0e9ebd01b107",
   "metadata": {},
   "outputs": [
    {
     "data": {
      "text/plain": [
       "72"
      ]
     },
     "execution_count": 48,
     "metadata": {},
     "output_type": "execute_result"
    }
   ],
   "source": [
    "ar.nbytes"
   ]
  },
  {
   "cell_type": "code",
   "execution_count": 49,
   "id": "f419edc8-0df6-4c5c-9608-db776887ee5e",
   "metadata": {},
   "outputs": [],
   "source": [
    "one = np.array([1,2,34,4,])"
   ]
  },
  {
   "cell_type": "code",
   "execution_count": 50,
   "id": "e3ac1bbe-426d-4756-ae2e-b5f59422d9d8",
   "metadata": {},
   "outputs": [
    {
     "data": {
      "text/plain": [
       "np.int64(2)"
      ]
     },
     "execution_count": 50,
     "metadata": {},
     "output_type": "execute_result"
    }
   ],
   "source": [
    "one.argmax()"
   ]
  },
  {
   "cell_type": "code",
   "execution_count": 51,
   "id": "7e09e2b6-cb90-43f1-af21-d3b7de1a46b8",
   "metadata": {},
   "outputs": [
    {
     "data": {
      "text/plain": [
       "array([1, 1, 0])"
      ]
     },
     "execution_count": 51,
     "metadata": {},
     "output_type": "execute_result"
    }
   ],
   "source": [
    "ar[2]"
   ]
  },
  {
   "cell_type": "code",
   "execution_count": 52,
   "id": "cd11702e-55a1-48fa-8cde-b2464713bd98",
   "metadata": {},
   "outputs": [
    {
     "data": {
      "text/plain": [
       "np.int64(34)"
      ]
     },
     "execution_count": 52,
     "metadata": {},
     "output_type": "execute_result"
    }
   ],
   "source": [
    "one[2]"
   ]
  },
  {
   "cell_type": "code",
   "execution_count": 53,
   "id": "f5a62471-9a72-46f7-9712-504750ed0ce9",
   "metadata": {},
   "outputs": [
    {
     "data": {
      "text/plain": [
       "np.int64(0)"
      ]
     },
     "execution_count": 53,
     "metadata": {},
     "output_type": "execute_result"
    }
   ],
   "source": [
    "one.argmin()"
   ]
  },
  {
   "cell_type": "code",
   "execution_count": 54,
   "id": "8e0bfc13-31fa-471a-8e1b-c7d5f64b19d2",
   "metadata": {},
   "outputs": [
    {
     "data": {
      "text/plain": [
       "np.int64(1)"
      ]
     },
     "execution_count": 54,
     "metadata": {},
     "output_type": "execute_result"
    }
   ],
   "source": [
    "one[0]"
   ]
  },
  {
   "cell_type": "code",
   "execution_count": 55,
   "id": "8ffc8bcd-0c0a-44e4-b2dd-eb982f46c324",
   "metadata": {},
   "outputs": [
    {
     "data": {
      "text/plain": [
       "array([0, 1, 3, 2])"
      ]
     },
     "execution_count": 55,
     "metadata": {},
     "output_type": "execute_result"
    }
   ],
   "source": [
    "one.argsort()"
   ]
  },
  {
   "cell_type": "code",
   "execution_count": 56,
   "id": "3c34270b-20eb-4093-8a86-270856708b8e",
   "metadata": {},
   "outputs": [
    {
     "name": "stdout",
     "output_type": "stream",
     "text": [
      "1\n",
      "2\n",
      "34\n",
      "4\n"
     ]
    }
   ],
   "source": [
    "i = {0,1,3,2}\n",
    "for j in i:\n",
    "    print(one[j])"
   ]
  },
  {
   "cell_type": "code",
   "execution_count": 57,
   "id": "b60581e2-6a7a-46fa-b157-2b48039829d4",
   "metadata": {},
   "outputs": [
    {
     "data": {
      "text/plain": [
       "array([[1, 2, 3],\n",
       "       [4, 5, 6],\n",
       "       [1, 1, 0]])"
      ]
     },
     "execution_count": 57,
     "metadata": {},
     "output_type": "execute_result"
    }
   ],
   "source": [
    "ar"
   ]
  },
  {
   "cell_type": "code",
   "execution_count": 58,
   "id": "392ed8dd-7467-4a2d-9f2c-1c4f86e55a32",
   "metadata": {},
   "outputs": [
    {
     "data": {
      "text/plain": [
       "array([[0, 1, 2],\n",
       "       [0, 1, 2],\n",
       "       [2, 0, 1]])"
      ]
     },
     "execution_count": 58,
     "metadata": {},
     "output_type": "execute_result"
    }
   ],
   "source": [
    "ar.argsort()"
   ]
  },
  {
   "cell_type": "code",
   "execution_count": 59,
   "id": "88760eaa-d0cb-428d-99b1-7cf70dd6dab2",
   "metadata": {},
   "outputs": [
    {
     "name": "stdout",
     "output_type": "stream",
     "text": [
      "5 8\n"
     ]
    }
   ],
   "source": [
    "print(ar.argmax(),ar.argmin())"
   ]
  },
  {
   "cell_type": "code",
   "execution_count": 60,
   "id": "ef85cb2f-92c1-4e36-b657-e08da6027e1a",
   "metadata": {},
   "outputs": [
    {
     "data": {
      "text/plain": [
       "array([1, 1, 1])"
      ]
     },
     "execution_count": 60,
     "metadata": {},
     "output_type": "execute_result"
    }
   ],
   "source": [
    "ar.argmax(axis=0)"
   ]
  },
  {
   "cell_type": "code",
   "execution_count": 61,
   "id": "77c33293-1388-412a-8931-c4b45b8557ba",
   "metadata": {},
   "outputs": [
    {
     "data": {
      "text/plain": [
       "array([2, 2, 0])"
      ]
     },
     "execution_count": 61,
     "metadata": {},
     "output_type": "execute_result"
    }
   ],
   "source": [
    "ar.argmax(axis=1)"
   ]
  },
  {
   "cell_type": "code",
   "execution_count": 62,
   "id": "0953c717-2b1a-4dc3-a876-aa5d65484da9",
   "metadata": {},
   "outputs": [
    {
     "name": "stdout",
     "output_type": "stream",
     "text": [
      "arg method gives the indeces for the required methods\n"
     ]
    }
   ],
   "source": [
    "print(\"arg method gives the indeces for the required methods\")"
   ]
  },
  {
   "cell_type": "code",
   "execution_count": 63,
   "id": "284ff95f-23c9-4bb5-af80-b3533d392e9a",
   "metadata": {},
   "outputs": [
    {
     "data": {
      "text/plain": [
       "array([1, 2, 3, 4, 5, 6, 1, 1, 0])"
      ]
     },
     "execution_count": 63,
     "metadata": {},
     "output_type": "execute_result"
    }
   ],
   "source": [
    "ar.ravel()"
   ]
  },
  {
   "cell_type": "code",
   "execution_count": 64,
   "id": "f4a5d720-8457-4749-88f0-14b4c174e9e2",
   "metadata": {},
   "outputs": [
    {
     "data": {
      "text/plain": [
       "array([[1, 2, 3],\n",
       "       [4, 5, 6],\n",
       "       [1, 1, 0]])"
      ]
     },
     "execution_count": 64,
     "metadata": {},
     "output_type": "execute_result"
    }
   ],
   "source": [
    "ar"
   ]
  },
  {
   "cell_type": "code",
   "execution_count": 65,
   "id": "57002ff0-c0cd-4a06-85c5-07721b305df7",
   "metadata": {},
   "outputs": [
    {
     "data": {
      "text/plain": [
       "array([[1],\n",
       "       [2],\n",
       "       [3],\n",
       "       [4],\n",
       "       [5],\n",
       "       [6],\n",
       "       [1],\n",
       "       [1],\n",
       "       [0]])"
      ]
     },
     "execution_count": 65,
     "metadata": {},
     "output_type": "execute_result"
    }
   ],
   "source": [
    "ar.reshape(9,1)"
   ]
  },
  {
   "cell_type": "code",
   "execution_count": 66,
   "id": "4d1db633-f8a3-4978-ac4f-a293033b20ce",
   "metadata": {},
   "outputs": [],
   "source": [
    "ar2= np.array([[1,2,3],[3,4,5],[4,5,6]])"
   ]
  },
  {
   "cell_type": "code",
   "execution_count": 67,
   "id": "2758e76e-78aa-48b3-8a99-3bda00abba99",
   "metadata": {},
   "outputs": [
    {
     "data": {
      "text/plain": [
       "(3, 3)"
      ]
     },
     "execution_count": 67,
     "metadata": {},
     "output_type": "execute_result"
    }
   ],
   "source": [
    "ar2.shape"
   ]
  },
  {
   "cell_type": "code",
   "execution_count": 68,
   "id": "34afe823-c2f0-486d-ba0e-ccfdcc51c5d6",
   "metadata": {},
   "outputs": [
    {
     "data": {
      "text/plain": [
       "(3, 3)"
      ]
     },
     "execution_count": 68,
     "metadata": {},
     "output_type": "execute_result"
    }
   ],
   "source": [
    "ar.shape"
   ]
  },
  {
   "cell_type": "code",
   "execution_count": 69,
   "id": "39023855-06ec-4c91-aa18-3081628e9a17",
   "metadata": {},
   "outputs": [
    {
     "data": {
      "text/plain": [
       "array([[1, 2, 3],\n",
       "       [4, 5, 6],\n",
       "       [1, 1, 0]])"
      ]
     },
     "execution_count": 69,
     "metadata": {},
     "output_type": "execute_result"
    }
   ],
   "source": [
    "ar"
   ]
  },
  {
   "cell_type": "code",
   "execution_count": 70,
   "id": "de043ef5-4448-430f-9723-3a1e36fa43f9",
   "metadata": {},
   "outputs": [
    {
     "data": {
      "text/plain": [
       "array([[1.        , 1.41421356, 1.73205081],\n",
       "       [2.        , 2.23606798, 2.44948974],\n",
       "       [1.        , 1.        , 0.        ]])"
      ]
     },
     "execution_count": 70,
     "metadata": {},
     "output_type": "execute_result"
    }
   ],
   "source": [
    "np.sqrt(ar)"
   ]
  },
  {
   "cell_type": "code",
   "execution_count": 71,
   "id": "6678082a-5d6e-4148-ba26-8b9138ff9e8b",
   "metadata": {},
   "outputs": [
    {
     "data": {
      "text/plain": [
       "np.int64(23)"
      ]
     },
     "execution_count": 71,
     "metadata": {},
     "output_type": "execute_result"
    }
   ],
   "source": [
    "ar.sum()"
   ]
  },
  {
   "cell_type": "code",
   "execution_count": 72,
   "id": "0a3c5f66-38e3-4303-b895-067e82ef77ba",
   "metadata": {},
   "outputs": [
    {
     "data": {
      "text/plain": [
       "np.int64(6)"
      ]
     },
     "execution_count": 72,
     "metadata": {},
     "output_type": "execute_result"
    }
   ],
   "source": [
    "ar.max()"
   ]
  },
  {
   "cell_type": "code",
   "execution_count": 73,
   "id": "102fcff4-987c-4ae5-be0c-9fa858ea5107",
   "metadata": {},
   "outputs": [
    {
     "data": {
      "text/plain": [
       "np.int64(0)"
      ]
     },
     "execution_count": 73,
     "metadata": {},
     "output_type": "execute_result"
    }
   ],
   "source": [
    "ar.min()"
   ]
  },
  {
   "cell_type": "code",
   "execution_count": 74,
   "id": "ecad36bd-c9ff-4b03-9a08-235be2712f8c",
   "metadata": {},
   "outputs": [
    {
     "data": {
      "text/plain": [
       "(array([0, 1, 1, 1]), array([2, 0, 1, 2]))"
      ]
     },
     "execution_count": 74,
     "metadata": {},
     "output_type": "execute_result"
    }
   ],
   "source": [
    "np.where(ar>2)"
   ]
  },
  {
   "cell_type": "code",
   "execution_count": 75,
   "id": "e928fc8e-3c63-47d1-aa8d-fea801a945d3",
   "metadata": {},
   "outputs": [
    {
     "data": {
      "text/plain": [
       "array([[1, 2, 3],\n",
       "       [4, 5, 6],\n",
       "       [1, 1, 0]])"
      ]
     },
     "execution_count": 75,
     "metadata": {},
     "output_type": "execute_result"
    }
   ],
   "source": [
    "ar"
   ]
  },
  {
   "cell_type": "code",
   "execution_count": 76,
   "id": "e95792c4-dc34-4b08-8924-6f2a77cef9dc",
   "metadata": {},
   "outputs": [
    {
     "data": {
      "text/plain": [
       "'\\nthis will give the indeces row*column wise\\n'"
      ]
     },
     "execution_count": 76,
     "metadata": {},
     "output_type": "execute_result"
    }
   ],
   "source": [
    "np.where(ar>2)\n",
    "'''\n",
    "this will give the indeces row*column wise\n",
    "'''\n"
   ]
  },
  {
   "cell_type": "code",
   "execution_count": 77,
   "id": "9a2957dc-3028-40ac-995d-3cf096ac94dd",
   "metadata": {},
   "outputs": [],
   "source": [
    "n1=np.array([2,3,4,5])"
   ]
  },
  {
   "cell_type": "code",
   "execution_count": 78,
   "id": "63633e60-6cd6-4fd9-8414-847fd36545ea",
   "metadata": {},
   "outputs": [
    {
     "data": {
      "text/plain": [
       "tuple"
      ]
     },
     "execution_count": 78,
     "metadata": {},
     "output_type": "execute_result"
    }
   ],
   "source": [
    "type(np.where(n1>1))"
   ]
  },
  {
   "cell_type": "code",
   "execution_count": 79,
   "id": "91fd0a8e-8c17-4128-bde7-b07271969113",
   "metadata": {},
   "outputs": [
    {
     "data": {
      "text/plain": [
       "np.int64(4)"
      ]
     },
     "execution_count": 79,
     "metadata": {},
     "output_type": "execute_result"
    }
   ],
   "source": [
    "np.count_nonzero(n1)"
   ]
  },
  {
   "cell_type": "code",
   "execution_count": 80,
   "id": "e8665953-c505-4969-9017-a4745d531703",
   "metadata": {},
   "outputs": [
    {
     "data": {
      "text/plain": [
       "(array([0, 1, 2, 3]),)"
      ]
     },
     "execution_count": 80,
     "metadata": {},
     "output_type": "execute_result"
    }
   ],
   "source": [
    "np.nonzero(n1)"
   ]
  },
  {
   "cell_type": "code",
   "execution_count": 81,
   "id": "cef49428-1f18-4670-9a86-2a112c58f58c",
   "metadata": {},
   "outputs": [
    {
     "data": {
      "text/plain": [
       "array([[1, 2, 3],\n",
       "       [4, 5, 6],\n",
       "       [1, 1, 0]])"
      ]
     },
     "execution_count": 81,
     "metadata": {},
     "output_type": "execute_result"
    }
   ],
   "source": [
    "ar"
   ]
  },
  {
   "cell_type": "code",
   "execution_count": 82,
   "id": "b2965207-d9a7-4fec-8971-aa9b5552eae0",
   "metadata": {},
   "outputs": [
    {
     "data": {
      "text/plain": [
       "np.int64(8)"
      ]
     },
     "execution_count": 82,
     "metadata": {},
     "output_type": "execute_result"
    }
   ],
   "source": [
    "np.count_nonzero(ar)"
   ]
  },
  {
   "cell_type": "code",
   "execution_count": 83,
   "id": "6389094e-79f1-427c-8b1f-0810cd18af85",
   "metadata": {},
   "outputs": [
    {
     "data": {
      "text/plain": [
       "(array([0, 0, 0, 1, 1, 1, 2, 2]), array([0, 1, 2, 0, 1, 2, 0, 1]))"
      ]
     },
     "execution_count": 83,
     "metadata": {},
     "output_type": "execute_result"
    }
   ],
   "source": [
    "np.nonzero(ar)"
   ]
  },
  {
   "cell_type": "code",
   "execution_count": 84,
   "id": "e7195389-2fa8-4717-95ed-74aef612e394",
   "metadata": {},
   "outputs": [],
   "source": [
    "import sys\n"
   ]
  },
  {
   "cell_type": "code",
   "execution_count": 85,
   "id": "853cd6a3-1717-476d-af01-c11e15ad4387",
   "metadata": {},
   "outputs": [],
   "source": [
    "py_ar=[3,4,5,6,76,7]"
   ]
  },
  {
   "cell_type": "code",
   "execution_count": null,
   "id": "6b4bdf09-7822-4942-9499-da4317318e96",
   "metadata": {},
   "outputs": [],
   "source": []
  },
  {
   "cell_type": "code",
   "execution_count": 87,
   "id": "8871cfba-48f2-4932-93ca-2dc3b225391e",
   "metadata": {},
   "outputs": [],
   "source": [
    "npa_ar=np.array(py_ar)"
   ]
  },
  {
   "cell_type": "code",
   "execution_count": 89,
   "id": "94c27fad-c0ec-452a-a9b3-056a3b47d9e7",
   "metadata": {},
   "outputs": [
    {
     "data": {
      "text/plain": [
       "168"
      ]
     },
     "execution_count": 89,
     "metadata": {},
     "output_type": "execute_result"
    }
   ],
   "source": [
    "sys.getsizeof(1)* len(py_ar)"
   ]
  },
  {
   "cell_type": "code",
   "execution_count": 92,
   "id": "80becaec-1f0d-4906-9ef1-c81283f88f2e",
   "metadata": {},
   "outputs": [
    {
     "data": {
      "text/plain": [
       "48"
      ]
     },
     "execution_count": 92,
     "metadata": {},
     "output_type": "execute_result"
    }
   ],
   "source": [
    "npa_ar.itemsize * npa_ar.size"
   ]
  },
  {
   "cell_type": "code",
   "execution_count": null,
   "id": "82313bbb-bc2e-4f6a-9272-951dbaf6f8b2",
   "metadata": {},
   "outputs": [],
   "source": []
  }
 ],
 "metadata": {
  "kernelspec": {
   "display_name": "Python 3 (ipykernel)",
   "language": "python",
   "name": "python3"
  },
  "language_info": {
   "codemirror_mode": {
    "name": "ipython",
    "version": 3
   },
   "file_extension": ".py",
   "mimetype": "text/x-python",
   "name": "python",
   "nbconvert_exporter": "python",
   "pygments_lexer": "ipython3",
   "version": "3.13.2"
  }
 },
 "nbformat": 4,
 "nbformat_minor": 5
}
