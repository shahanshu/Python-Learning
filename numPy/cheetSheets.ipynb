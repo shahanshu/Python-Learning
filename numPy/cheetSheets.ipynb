{
 "cells": [
  {
   "cell_type": "code",
   "execution_count": 1,
   "id": "c9004917-84e7-4230-af9c-722acd47e094",
   "metadata": {},
   "outputs": [],
   "source": [
    "import numpy as np\n",
    "import numpy.polynomial.polynomial  as poly"
   ]
  },
  {
   "cell_type": "markdown",
   "id": "198aaa7a-2900-48f2-a8d9-934b3f5a2ffe",
   "metadata": {},
   "source": [
    "## random numbers creations"
   ]
  },
  {
   "cell_type": "code",
   "execution_count": 2,
   "id": "e52673d2-192c-4060-b0e2-f74062abdee1",
   "metadata": {},
   "outputs": [
    {
     "data": {
      "text/plain": [
       "array([0.33105643, 0.75081912, 0.66517888])"
      ]
     },
     "execution_count": 2,
     "metadata": {},
     "output_type": "execute_result"
    }
   ],
   "source": [
    "np.random.rand(3)\n"
   ]
  },
  {
   "cell_type": "code",
   "execution_count": 3,
   "id": "59b10031-d019-4850-ba52-1ca0254990e7",
   "metadata": {},
   "outputs": [
    {
     "data": {
      "text/plain": [
       "array([ 0.1722957 , -0.49277129,  1.61057883])"
      ]
     },
     "execution_count": 3,
     "metadata": {},
     "output_type": "execute_result"
    }
   ],
   "source": [
    "np.random.randn(3)"
   ]
  },
  {
   "cell_type": "code",
   "execution_count": 4,
   "id": "dc901c03-8285-4723-bd9c-e42b2de52bf3",
   "metadata": {},
   "outputs": [
    {
     "data": {
      "text/plain": [
       "array([0, 0, 0, 2, 3, 3, 9, 7, 2, 2, 9, 7], dtype=int32)"
      ]
     },
     "execution_count": 4,
     "metadata": {},
     "output_type": "execute_result"
    }
   ],
   "source": [
    "np.random.randint(0,10,12) # here start,stop, number_of_random_values"
   ]
  },
  {
   "cell_type": "code",
   "execution_count": 5,
   "id": "af81e4ff-db4c-40dc-b2f8-23f1fb8bd0ec",
   "metadata": {},
   "outputs": [
    {
     "name": "stdout",
     "output_type": "stream",
     "text": [
      "anu\n",
      "anshu\n",
      "anu\n",
      "anu\n",
      "anu\n",
      "aman\n",
      "aman\n",
      "junu\n",
      "anu\n",
      "anu\n"
     ]
    }
   ],
   "source": [
    "for i in range(10):\n",
    "    options=np.random.choice(['anshu','aman','junu','anu'])\n",
    "    print(options)"
   ]
  },
  {
   "cell_type": "markdown",
   "id": "4468a20c-0d31-4807-a885-10f0b8bbe4b5",
   "metadata": {},
   "source": [
    "### polynomials"
   ]
  },
  {
   "cell_type": "code",
   "execution_count": 6,
   "id": "3b522adf-075f-4507-81f7-689e1b4a543b",
   "metadata": {},
   "outputs": [],
   "source": [
    "eqn = poly.Polynomial([2,0,4])\n"
   ]
  },
  {
   "cell_type": "code",
   "execution_count": 7,
   "id": "3bb522fe-e482-4a5b-9c12-9658cede4585",
   "metadata": {},
   "outputs": [
    {
     "name": "stdout",
     "output_type": "stream",
     "text": [
      "2.0 + 0.0 x + 4.0 x**2\n"
     ]
    }
   ],
   "source": [
    "print(eqn)"
   ]
  },
  {
   "cell_type": "markdown",
   "id": "d646f189-83c4-4795-a5cd-13e5705eb6a8",
   "metadata": {},
   "source": [
    "### meshGrid"
   ]
  },
  {
   "cell_type": "code",
   "execution_count": 8,
   "id": "3c898589-78a1-4fa9-857d-42950f975e31",
   "metadata": {},
   "outputs": [],
   "source": [
    "x=np.arange(1,10,2)\n",
    "y=np.arange(2,20,4)\n",
    "X,Y =np.meshgrid(x,y)"
   ]
  },
  {
   "cell_type": "code",
   "execution_count": 9,
   "id": "aa094cc1-8478-4709-876e-fa42d134cd1c",
   "metadata": {},
   "outputs": [
    {
     "name": "stdout",
     "output_type": "stream",
     "text": [
      "Z values:\n",
      " [[-0.26237485 -0.16516621 -0.13235175 -0.16516621 -0.26237485]\n",
      " [-0.16516621 -0.0663219  -0.03317922 -0.0663219  -0.16516621]\n",
      " [-0.13235175 -0.03317922  0.         -0.03317922 -0.13235175]\n",
      " [-0.16516621 -0.0663219  -0.03317922 -0.0663219  -0.16516621]\n",
      " [-0.26237485 -0.16516621 -0.13235175 -0.16516621 -0.26237485]]\n"
     ]
    }
   ],
   "source": [
    "x = np.linspace(-5, 5, 5)\n",
    "y = np.linspace(-5, 5, 5)\n",
    "xx, yy = np.meshgrid(x, y)\n",
    "\n",
    "z = np.sin(xx**2 + yy**2)\n",
    "print(\"Z values:\\n\", z)"
   ]
  },
  {
   "cell_type": "code",
   "execution_count": 10,
   "id": "bb6ff0e3-0c02-4262-a81b-b513b4543028",
   "metadata": {},
   "outputs": [],
   "source": []
  },
  {
   "cell_type": "code",
   "execution_count": 13,
   "id": "60c80de1-7c0b-4fe3-8949-1f853b67f853",
   "metadata": {},
   "outputs": [
    {
     "ename": "TypeError",
     "evalue": "'numpy.int64' object is not iterable",
     "output_type": "error",
     "traceback": [
      "\u001b[31m---------------------------------------------------------------------------\u001b[39m",
      "\u001b[31mTypeError\u001b[39m                                 Traceback (most recent call last)",
      "\u001b[36mCell\u001b[39m\u001b[36m \u001b[39m\u001b[32mIn[13]\u001b[39m\u001b[32m, line 1\u001b[39m\n\u001b[32m----> \u001b[39m\u001b[32m1\u001b[39m \u001b[38;5;28;43;01mfor\u001b[39;49;00m\u001b[43m \u001b[49m\u001b[43mi\u001b[49m\u001b[43m \u001b[49m\u001b[38;5;129;43;01min\u001b[39;49;00m\u001b[43m \u001b[49m\u001b[43marr\u001b[49m\u001b[43m:\u001b[49m\n\u001b[32m      2\u001b[39m \u001b[43m    \u001b[49m\u001b[38;5;28;43mmax\u001b[39;49m\u001b[43m=\u001b[49m\u001b[43mnp\u001b[49m\u001b[43m.\u001b[49m\u001b[43margmax\u001b[49m\u001b[43m(\u001b[49m\u001b[43marr\u001b[49m\u001b[43m)\u001b[49m\n\u001b[32m      3\u001b[39m \u001b[43m    \u001b[49m\u001b[38;5;28;43mprint\u001b[39;49m\u001b[43m(\u001b[49m\u001b[43marr\u001b[49m\u001b[43m[\u001b[49m\u001b[38;5;28;43mmax\u001b[39;49m\u001b[43m]\u001b[49m\u001b[43m)\u001b[49m\n",
      "\u001b[31mTypeError\u001b[39m: 'numpy.int64' object is not iterable"
     ]
    }
   ],
   "source": []
  },
  {
   "cell_type": "code",
   "execution_count": null,
   "id": "40542a12-381b-40ff-8e23-fe92c5ed81bf",
   "metadata": {},
   "outputs": [],
   "source": []
  },
  {
   "cell_type": "code",
   "execution_count": null,
   "id": "d6d45d36-a575-4189-965e-9dfe6f2776a7",
   "metadata": {},
   "outputs": [],
   "source": []
  },
  {
   "cell_type": "code",
   "execution_count": null,
   "id": "27a95ada-c752-461a-86c5-b03fcca3200f",
   "metadata": {},
   "outputs": [],
   "source": []
  },
  {
   "cell_type": "markdown",
   "id": "aa2073a4-82d8-4cb7-8f66-d055831a249e",
   "metadata": {},
   "source": [
    "# array creation \n"
   ]
  },
  {
   "cell_type": "code",
   "execution_count": null,
   "id": "3c5a6188-ec11-4568-a0a5-7d373a8e7fea",
   "metadata": {},
   "outputs": [],
   "source": [
    "np.array([1,2,3,4,3])"
   ]
  },
  {
   "cell_type": "code",
   "execution_count": null,
   "id": "26a9f091-391e-4d2d-aab0-e3dd8261c435",
   "metadata": {},
   "outputs": [],
   "source": [
    "np.zeros(5)"
   ]
  },
  {
   "cell_type": "code",
   "execution_count": null,
   "id": "37437176-80b4-414d-8dfa-cdb0da8e7309",
   "metadata": {},
   "outputs": [],
   "source": [
    "np.eye(3)"
   ]
  },
  {
   "cell_type": "code",
   "execution_count": null,
   "id": "c8b44def-7958-4419-9514-f957fd45d9b1",
   "metadata": {},
   "outputs": [],
   "source": [
    "np.arange(0,10,2)"
   ]
  },
  {
   "cell_type": "code",
   "execution_count": null,
   "id": "5630231b-0f76-4a56-8081-8bf466755873",
   "metadata": {},
   "outputs": [],
   "source": [
    "np.arange(2,10,3)"
   ]
  },
  {
   "cell_type": "code",
   "execution_count": null,
   "id": "4a287b44-27ff-4092-854c-5c06d380ddac",
   "metadata": {},
   "outputs": [],
   "source": [
    "np.linspace(0,10,3)"
   ]
  },
  {
   "cell_type": "code",
   "execution_count": null,
   "id": "be915cd8-0a76-442c-97d8-ea631d918c9d",
   "metadata": {},
   "outputs": [],
   "source": [
    "np.random.rand(4) # this will create the random numbers (0,1)"
   ]
  },
  {
   "cell_type": "code",
   "execution_count": null,
   "id": "d3f56f7e-0793-4e74-839d-0df01e4b0359",
   "metadata": {},
   "outputs": [],
   "source": []
  },
  {
   "cell_type": "code",
   "execution_count": null,
   "id": "662d3029-6431-4756-8019-9aa14066af48",
   "metadata": {},
   "outputs": [],
   "source": []
  },
  {
   "cell_type": "markdown",
   "id": "046a0cc3-4b32-4287-84df-c766a76f38a5",
   "metadata": {},
   "source": [
    "# Araay Attributes"
   ]
  },
  {
   "cell_type": "code",
   "execution_count": null,
   "id": "be231a44-80a1-4154-ae13-3def675ff762",
   "metadata": {},
   "outputs": [],
   "source": [
    "arr=np.array([[1,2,4,5],[67,34,23,2],[2,3,4,4]])"
   ]
  },
  {
   "cell_type": "code",
   "execution_count": null,
   "id": "9b1f1481-fb07-44e9-9e7b-7947065b662e",
   "metadata": {},
   "outputs": [],
   "source": [
    "arr.shape"
   ]
  },
  {
   "cell_type": "code",
   "execution_count": null,
   "id": "ddfa16e0-b2ee-4d49-8977-0304f4733af0",
   "metadata": {},
   "outputs": [],
   "source": [
    "arr.size"
   ]
  },
  {
   "cell_type": "code",
   "execution_count": null,
   "id": "303be9c7-5f00-41f8-aab4-e36a0b78806e",
   "metadata": {},
   "outputs": [],
   "source": [
    "arr.ndim"
   ]
  },
  {
   "cell_type": "code",
   "execution_count": null,
   "id": "40c62289-e44a-4e3a-af6e-0b66ffcb3529",
   "metadata": {},
   "outputs": [],
   "source": [
    "arr"
   ]
  },
  {
   "cell_type": "code",
   "execution_count": null,
   "id": "c7c7f5cf-3448-4bfb-ba7f-2384d5e70d29",
   "metadata": {},
   "outputs": [],
   "source": [
    "arr.shape"
   ]
  },
  {
   "cell_type": "code",
   "execution_count": null,
   "id": "b69644af-57c4-412b-8fd9-54c9a32a4369",
   "metadata": {},
   "outputs": [],
   "source": [
    "arr[[0,0],[2,3]] #this will take row from the first and the columns from the second pair"
   ]
  },
  {
   "cell_type": "markdown",
   "id": "3b4d389d-b667-40af-be55-fb12d6bd381b",
   "metadata": {},
   "source": [
    "# indexing and slicing"
   ]
  },
  {
   "cell_type": "code",
   "execution_count": null,
   "id": "8b33974b-44f0-4667-9a9d-e26f1f827c49",
   "metadata": {},
   "outputs": [],
   "source": [
    "arr"
   ]
  },
  {
   "cell_type": "code",
   "execution_count": null,
   "id": "3529eace-03d2-40e8-bfad-5651c08b163c",
   "metadata": {},
   "outputs": [],
   "source": [
    "arr[2,3]"
   ]
  },
  {
   "cell_type": "code",
   "execution_count": null,
   "id": "1897320f-56bf-4057-99a2-22b6e516067d",
   "metadata": {},
   "outputs": [],
   "source": [
    "arr[:,0]"
   ]
  },
  {
   "cell_type": "code",
   "execution_count": null,
   "id": "16245f02-9475-4fb7-a057-011362bfc6b0",
   "metadata": {},
   "outputs": [],
   "source": [
    "arr[0,:]"
   ]
  },
  {
   "cell_type": "code",
   "execution_count": null,
   "id": "1955e98d-9ec1-4b8d-88fc-e5ccc4ceb792",
   "metadata": {},
   "outputs": [],
   "source": [
    "arr[0:1,:2]"
   ]
  },
  {
   "cell_type": "markdown",
   "id": "6dd9b009-0c10-49e5-82d7-beb111ce4949",
   "metadata": {},
   "source": [
    "# operations in array "
   ]
  },
  {
   "cell_type": "code",
   "execution_count": null,
   "id": "d23ed0c6-f44d-4e55-9c1c-e2fc2ecc3f7b",
   "metadata": {},
   "outputs": [],
   "source": [
    "a=np.array([1,2,3,4])\n",
    "b=np.array([3,45,6,7])\n",
    "a+b"
   ]
  },
  {
   "cell_type": "code",
   "execution_count": null,
   "id": "aa1e18d9-4c5f-4f79-9e20-9c822a5020be",
   "metadata": {},
   "outputs": [],
   "source": [
    "print(a)\n",
    "print(b)\n",
    "print(a+b)"
   ]
  },
  {
   "cell_type": "code",
   "execution_count": null,
   "id": "757bba7c-fbf9-4f28-89a6-1cc9777c30d9",
   "metadata": {},
   "outputs": [],
   "source": [
    "print(np.sqrt(a))"
   ]
  },
  {
   "cell_type": "code",
   "execution_count": null,
   "id": "1a88ca99-a1fd-4a8b-a0cd-252be798d72c",
   "metadata": {},
   "outputs": [],
   "source": [
    "np.dot(a,b)"
   ]
  },
  {
   "cell_type": "markdown",
   "id": "ece2fb72-8570-4d4b-bb9b-9c3a3af96f0d",
   "metadata": {},
   "source": [
    "# reshaping and transpoing"
   ]
  },
  {
   "cell_type": "code",
   "execution_count": null,
   "id": "5e8f4758-b297-4282-9b4d-3d81aa3676b6",
   "metadata": {},
   "outputs": [],
   "source": [
    "anshu=np.arange(6)"
   ]
  },
  {
   "cell_type": "code",
   "execution_count": null,
   "id": "f7f9bf74-4458-46b4-87c8-29e43ece49ce",
   "metadata": {},
   "outputs": [],
   "source": [
    "anshu.reshape(2,3) #the eventual products of the seperate = to the total of the numbers"
   ]
  },
  {
   "cell_type": "code",
   "execution_count": null,
   "id": "6b15d4f9-f738-4ce1-9b77-bd52896f7e57",
   "metadata": {},
   "outputs": [],
   "source": [
    "reshaped=anshu.reshape(3,2)"
   ]
  },
  {
   "cell_type": "code",
   "execution_count": null,
   "id": "3f58b05b-de75-4698-9aa5-25c2af42701e",
   "metadata": {},
   "outputs": [],
   "source": [
    "print(reshaped)"
   ]
  },
  {
   "cell_type": "code",
   "execution_count": null,
   "id": "72872232-2eec-42c8-8a2a-a06cac6367a2",
   "metadata": {},
   "outputs": [],
   "source": [
    "reshaped.T"
   ]
  },
  {
   "cell_type": "code",
   "execution_count": null,
   "id": "bbeb6be0-7174-475a-92da-98e91322c4a3",
   "metadata": {},
   "outputs": [],
   "source": [
    "reshaped.flatten()  #flatten is the reverse of the reshape 'flatten' is the attribute"
   ]
  },
  {
   "cell_type": "markdown",
   "id": "8930aacc-e502-4b16-ad97-e9ed54468b07",
   "metadata": {},
   "source": [
    "# concatanation & Splittingg"
   ]
  },
  {
   "cell_type": "code",
   "execution_count": null,
   "id": "8d57e770-c3b9-4566-a133-9e3d04ab4dd9",
   "metadata": {},
   "outputs": [],
   "source": [
    "np.array([[2,3,4],[2,4,5]])"
   ]
  },
  {
   "cell_type": "code",
   "execution_count": null,
   "id": "1c785737-082d-40b1-a971-3873e1b9becc",
   "metadata": {},
   "outputs": [],
   "source": [
    "np.array([[[2,3,4],[6,7,8]]]) # ndim = n*[ ]"
   ]
  },
  {
   "cell_type": "code",
   "execution_count": null,
   "id": "5c3199bd-7134-435f-a72c-104be2f3339c",
   "metadata": {},
   "outputs": [],
   "source": [
    "a=np.array([[1,2],[3,4]])\n",
    "b = np.array([[5,4],[6,8]])\n",
    "concat=np.concatenate((a,b),axis=0)\n",
    "np.vstack((a,b))\n",
    "np.hstack((a,b))"
   ]
  },
  {
   "cell_type": "markdown",
   "id": "57710bd3-b969-483e-aad6-4b9ac65c3708",
   "metadata": {},
   "source": [
    "# broadcasting - ### arithematics operations on arrays with different shape"
   ]
  },
  {
   "cell_type": "code",
   "execution_count": null,
   "id": "042ec24b-ec32-49cb-a4cf-07eaf2b06732",
   "metadata": {},
   "outputs": [],
   "source": [
    "a = np.array([[1, 2, 3], [4, 5, 6]])\n",
    "b = np.array([10, 20, 30])\n",
    "print(\"\")\n",
    "\n",
    "print(a+b)"
   ]
  },
  {
   "cell_type": "markdown",
   "id": "cdfcaaff-3d6f-46fa-b71a-2f0d6441bca8",
   "metadata": {},
   "source": [
    "# universal functions"
   ]
  },
  {
   "cell_type": "code",
   "execution_count": null,
   "id": "5fe9ad41-8394-48aa-a7c7-6847f1e0115e",
   "metadata": {},
   "outputs": [],
   "source": [
    "anshu=np.array([[2,3],[3,7]])"
   ]
  },
  {
   "cell_type": "code",
   "execution_count": null,
   "id": "59eefd7b-0f9c-4f7c-85cb-535f5d3bb639",
   "metadata": {},
   "outputs": [],
   "source": [
    "np.power(anshu,2)"
   ]
  },
  {
   "cell_type": "code",
   "execution_count": null,
   "id": "2b550b16-9c53-4a8a-8377-ce94b1393c5c",
   "metadata": {},
   "outputs": [],
   "source": [
    "np.sin(arr)"
   ]
  },
  {
   "cell_type": "code",
   "execution_count": null,
   "id": "ebd2a675-3db7-49c9-b4bf-1e4d729694c9",
   "metadata": {},
   "outputs": [],
   "source": [
    "arr = np.array([1, 2, 3, -1, -2])\n",
    "masked = np.ma.masked_where(arr < 0, arr)\n",
    "\n",
    "print(\"Masked mean:\", masked.mean())\n"
   ]
  },
  {
   "cell_type": "markdown",
   "id": "449edefc-e397-4dac-9e75-3e8d0714a1ae",
   "metadata": {},
   "source": [
    "# Tier -3"
   ]
  },
  {
   "cell_type": "markdown",
   "id": "a6cf0280-5d96-4b2b-846a-7bc697118203",
   "metadata": {},
   "source": [
    "#### linear algerae"
   ]
  },
  {
   "cell_type": "code",
   "execution_count": null,
   "id": "0bcbd168-504c-4289-bf76-8176e15e9297",
   "metadata": {},
   "outputs": [],
   "source": [
    "a=np.array([[2,3],[7,8]])\n",
    "b=np.array([[2,8],[56,8]])"
   ]
  },
  {
   "cell_type": "code",
   "execution_count": null,
   "id": "6f1f08c6-cdd5-44f0-b2b2-d96244d9f760",
   "metadata": {},
   "outputs": [],
   "source": [
    "a@b # this is for the matrix multiplications"
   ]
  },
  {
   "cell_type": "code",
   "execution_count": null,
   "id": "5e8a2f50-55f5-4035-b1ae-0e033aa131af",
   "metadata": {},
   "outputs": [],
   "source": [
    "np.linalg.inv(a)"
   ]
  },
  {
   "cell_type": "code",
   "execution_count": null,
   "id": "8c7d6463-c674-47c9-91f2-c8cf9f912a6e",
   "metadata": {},
   "outputs": [],
   "source": [
    "np.linalg.det(a)"
   ]
  },
  {
   "cell_type": "code",
   "execution_count": null,
   "id": "38344e48-23d7-4e04-b47d-3dd8feeae5e3",
   "metadata": {},
   "outputs": [],
   "source": [
    "np.linalg.eig(a)"
   ]
  },
  {
   "cell_type": "markdown",
   "id": "7bf4de9f-a736-44e2-a57e-5d37ed1f0f27",
   "metadata": {},
   "source": [
    "#### fancy indexing"
   ]
  },
  {
   "cell_type": "code",
   "execution_count": null,
   "id": "45b43f69-87a7-4c5c-a463-996041761db9",
   "metadata": {},
   "outputs": [],
   "source": [
    "arr = np.array([[1, 2], [3, 4], [5, 6]])\n",
    "arr"
   ]
  },
  {
   "cell_type": "code",
   "execution_count": null,
   "id": "d2a7085a-a504-4aa0-b081-ac0f2b5a59f8",
   "metadata": {},
   "outputs": [],
   "source": [
    "arr[[2,0],[0,1]]"
   ]
  },
  {
   "cell_type": "markdown",
   "id": "856868f6-2c79-4549-98c1-a52d98b73f52",
   "metadata": {},
   "source": [
    "#### savinf and loading arrays"
   ]
  },
  {
   "cell_type": "code",
   "execution_count": null,
   "id": "f3718bc3-323c-47c3-b540-b4ae4dc4ebe0",
   "metadata": {},
   "outputs": [],
   "source": [
    "kripa=np.arange(10)\n",
    "np.save('saved',kripa)"
   ]
  },
  {
   "cell_type": "code",
   "execution_count": null,
   "id": "1ee2792f-1ce5-4a93-9c1e-fce10db10ab7",
   "metadata": {},
   "outputs": [],
   "source": [
    "np.savetxt('numedpytest',kripa)"
   ]
  },
  {
   "cell_type": "code",
   "execution_count": null,
   "id": "4506ecae-0253-4c3e-9abf-6e6901c68465",
   "metadata": {},
   "outputs": [],
   "source": []
  }
 ],
 "metadata": {
  "kernelspec": {
   "display_name": "Python 3 (ipykernel)",
   "language": "python",
   "name": "python3"
  },
  "language_info": {
   "codemirror_mode": {
    "name": "ipython",
    "version": 3
   },
   "file_extension": ".py",
   "mimetype": "text/x-python",
   "name": "python",
   "nbconvert_exporter": "python",
   "pygments_lexer": "ipython3",
   "version": "3.13.2"
  }
 },
 "nbformat": 4,
 "nbformat_minor": 5
}
