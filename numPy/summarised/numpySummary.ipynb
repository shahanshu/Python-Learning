{
 "cells": [
  {
   "cell_type": "code",
   "execution_count": 1,
   "id": "65391ebe-f3a9-4fab-b921-b01a228bf72e",
   "metadata": {},
   "outputs": [],
   "source": [
    "import numpy as np"
   ]
  },
  {
   "cell_type": "code",
   "execution_count": 2,
   "id": "3e43c1af-65b1-4b2a-a927-117e51c1564a",
   "metadata": {},
   "outputs": [
    {
     "data": {
      "text/plain": [
       "array([1, 2, 3, 4])"
      ]
     },
     "execution_count": 2,
     "metadata": {},
     "output_type": "execute_result"
    }
   ],
   "source": [
    "arr=np.array([1,2,3,4])\n",
    "arr"
   ]
  },
  {
   "cell_type": "code",
   "execution_count": 3,
   "id": "327511dd-1f00-467d-ab14-329bdc739e4b",
   "metadata": {},
   "outputs": [
    {
     "data": {
      "text/plain": [
       "[1, 2, 3, 'anshu']"
      ]
     },
     "execution_count": 3,
     "metadata": {},
     "output_type": "execute_result"
    }
   ],
   "source": [
    "lst=[1,2,3,'anshu']\n",
    "lst"
   ]
  },
  {
   "cell_type": "code",
   "execution_count": 4,
   "id": "3803afb2-adf5-443b-9278-f3f40589a19a",
   "metadata": {},
   "outputs": [],
   "source": [
    "arr1=np.array(lst)"
   ]
  },
  {
   "cell_type": "code",
   "execution_count": 5,
   "id": "1625f148-e421-4a77-9bff-7ada49fd8fb7",
   "metadata": {},
   "outputs": [
    {
     "data": {
      "text/plain": [
       "array(['1', '2', '3', 'anshu'], dtype='<U21')"
      ]
     },
     "execution_count": 5,
     "metadata": {},
     "output_type": "execute_result"
    }
   ],
   "source": [
    "arr1"
   ]
  },
  {
   "cell_type": "code",
   "execution_count": 6,
   "id": "9747d6ea-cb8a-4873-81ef-a8ece0f82ba7",
   "metadata": {},
   "outputs": [
    {
     "data": {
      "text/plain": [
       "[[1, 2, 3, 'anshu'], [2, 3, 4, 'kripa']]"
      ]
     },
     "execution_count": 6,
     "metadata": {},
     "output_type": "execute_result"
    }
   ],
   "source": [
    "lst2=[[1,2,3,'anshu'],[2,3,4,'kripa']]\n",
    "lst2"
   ]
  },
  {
   "cell_type": "code",
   "execution_count": 7,
   "id": "aa571687-095c-42d3-b5f4-9d0a97c5fb48",
   "metadata": {},
   "outputs": [
    {
     "data": {
      "text/plain": [
       "array([['1', '2', '3', 'anshu'],\n",
       "       ['2', '3', '4', 'kripa']], dtype='<U21')"
      ]
     },
     "execution_count": 7,
     "metadata": {},
     "output_type": "execute_result"
    }
   ],
   "source": [
    "\n",
    "np.array(lst2)"
   ]
  },
  {
   "cell_type": "code",
   "execution_count": 8,
   "id": "2e2ab957-0ece-4a6a-841c-c3ca447e40b9",
   "metadata": {},
   "outputs": [
    {
     "data": {
      "text/plain": [
       "[[1, 2, 3, 'anshu'], [2, 3, 4, 'kripa']]"
      ]
     },
     "execution_count": 8,
     "metadata": {},
     "output_type": "execute_result"
    }
   ],
   "source": [
    "lst2"
   ]
  },
  {
   "cell_type": "code",
   "execution_count": 9,
   "id": "4e0578d2-bf86-435f-bc79-65af758e4b45",
   "metadata": {},
   "outputs": [
    {
     "data": {
      "text/plain": [
       "array([[1, 2],\n",
       "       [3, 4]])"
      ]
     },
     "execution_count": 9,
     "metadata": {},
     "output_type": "execute_result"
    }
   ],
   "source": [
    "np.array([[1,2],[3,4]])"
   ]
  },
  {
   "cell_type": "code",
   "execution_count": 10,
   "id": "042779b6-1c19-47e3-b2a5-dea569b551d4",
   "metadata": {},
   "outputs": [
    {
     "data": {
      "text/plain": [
       "array([ 1,  2,  3,  4,  5,  6,  7,  8,  9, 10, 11, 12, 13, 14, 15, 16, 17,\n",
       "       18, 19])"
      ]
     },
     "execution_count": 10,
     "metadata": {},
     "output_type": "execute_result"
    }
   ],
   "source": [
    "np.arange(1,20)"
   ]
  },
  {
   "cell_type": "code",
   "execution_count": 11,
   "id": "b7407c23-baa5-4475-babc-627c1a6fc77b",
   "metadata": {},
   "outputs": [
    {
     "data": {
      "text/plain": [
       "array([ 1,  3,  5,  7,  9, 11, 13, 15, 17, 19])"
      ]
     },
     "execution_count": 11,
     "metadata": {},
     "output_type": "execute_result"
    }
   ],
   "source": [
    "np.arange(1,20,2)"
   ]
  },
  {
   "cell_type": "code",
   "execution_count": 12,
   "id": "a74df151-ec78-47af-9a91-d72b2a744daa",
   "metadata": {},
   "outputs": [
    {
     "data": {
      "text/plain": [
       "array([0., 0., 0.])"
      ]
     },
     "execution_count": 12,
     "metadata": {},
     "output_type": "execute_result"
    }
   ],
   "source": [
    "np.zeros(3)"
   ]
  },
  {
   "cell_type": "code",
   "execution_count": 13,
   "id": "e301d21f-800a-4c2e-9de8-7e53cfb0d5ab",
   "metadata": {},
   "outputs": [
    {
     "data": {
      "text/plain": [
       "array([[0., 0., 0., 0.],\n",
       "       [0., 0., 0., 0.]])"
      ]
     },
     "execution_count": 13,
     "metadata": {},
     "output_type": "execute_result"
    }
   ],
   "source": [
    "np.zeros((2,4))"
   ]
  },
  {
   "cell_type": "code",
   "execution_count": 14,
   "id": "96189008-1fca-4197-b95d-50852a8f0aeb",
   "metadata": {},
   "outputs": [
    {
     "data": {
      "text/plain": [
       "array([[0., 0., 0., 0., 0.],\n",
       "       [0., 0., 0., 0., 0.],\n",
       "       [0., 0., 0., 0., 0.],\n",
       "       [0., 0., 0., 0., 0.],\n",
       "       [0., 0., 0., 0., 0.]])"
      ]
     },
     "execution_count": 14,
     "metadata": {},
     "output_type": "execute_result"
    }
   ],
   "source": [
    "np.zeros((5,5))"
   ]
  },
  {
   "cell_type": "code",
   "execution_count": 15,
   "id": "21237d69-db26-4bae-a6c6-48ff891e5cf1",
   "metadata": {},
   "outputs": [
    {
     "data": {
      "text/plain": [
       "array([1., 1., 1., 1.])"
      ]
     },
     "execution_count": 15,
     "metadata": {},
     "output_type": "execute_result"
    }
   ],
   "source": [
    "np.ones(4)"
   ]
  },
  {
   "cell_type": "code",
   "execution_count": 16,
   "id": "61183be6-cc1e-480c-93be-8f3d34f2675b",
   "metadata": {},
   "outputs": [
    {
     "data": {
      "text/plain": [
       "array([[1., 1., 1., 1., 1.],\n",
       "       [1., 1., 1., 1., 1.],\n",
       "       [1., 1., 1., 1., 1.],\n",
       "       [1., 1., 1., 1., 1.]])"
      ]
     },
     "execution_count": 16,
     "metadata": {},
     "output_type": "execute_result"
    }
   ],
   "source": [
    "np.ones((4,5))"
   ]
  },
  {
   "cell_type": "code",
   "execution_count": 17,
   "id": "c1c34d2c-603d-4502-98f1-f23e81df4e25",
   "metadata": {},
   "outputs": [
    {
     "data": {
      "text/plain": [
       "array([ 1.  ,  5.75, 10.5 , 15.25, 20.  ])"
      ]
     },
     "execution_count": 17,
     "metadata": {},
     "output_type": "execute_result"
    }
   ],
   "source": [
    "np.linspace(1,20,5,endpoint=True)"
   ]
  },
  {
   "cell_type": "markdown",
   "id": "d494e7d3-97a9-4d7e-a863-f31c5552bfbf",
   "metadata": {},
   "source": [
    "# Random Numbers Generations "
   ]
  },
  {
   "cell_type": "code",
   "execution_count": 18,
   "id": "3d736410-68fd-4439-b850-87b0306cb99c",
   "metadata": {},
   "outputs": [
    {
     "data": {
      "text/plain": [
       "array([ 3,  8, 14, 12,  7, 16,  5, 16, 12, 18], dtype=int32)"
      ]
     },
     "execution_count": 18,
     "metadata": {},
     "output_type": "execute_result"
    }
   ],
   "source": [
    "np.random.randint(1,20,10)"
   ]
  },
  {
   "cell_type": "code",
   "execution_count": 19,
   "id": "7599a6f3-b76f-46ed-b93f-611888a5e00c",
   "metadata": {},
   "outputs": [
    {
     "data": {
      "text/plain": [
       "array([55, 44, 81, 75, 20, 35,  5, 91, 63, 93, 40, 47, 46, 46,  6, 70, 30,\n",
       "       51, 80, 84, 14, 70,  5, 19, 54,  8, 73, 76, 77, 22, 73,  7, 60, 65,\n",
       "       42, 55, 11, 68, 21, 92, 15, 17, 16, 76, 19,  4, 27, 74, 94, 67, 86,\n",
       "       96, 86, 57, 56, 39, 42, 41, 33, 69, 87, 67, 20, 97, 13, 81, 33, 71,\n",
       "       78, 26, 79, 15, 19, 40, 20,  8,  6, 70, 33,  9, 91, 24, 59, 63, 20,\n",
       "       44, 28,  2, 85, 52, 42, 81, 56, 54, 88, 92, 28, 98, 84, 74],\n",
       "      dtype=int32)"
      ]
     },
     "execution_count": 19,
     "metadata": {},
     "output_type": "execute_result"
    }
   ],
   "source": [
    "np.random.randint(2,100,100)"
   ]
  },
  {
   "cell_type": "code",
   "execution_count": 20,
   "id": "803e1cb2-235f-4ae0-8c9c-984d2fac7946",
   "metadata": {},
   "outputs": [
    {
     "data": {
      "text/plain": [
       "array([0.74440778, 0.93934825, 0.1472829 , 0.41458856, 0.52088401])"
      ]
     },
     "execution_count": 20,
     "metadata": {},
     "output_type": "execute_result"
    }
   ],
   "source": [
    "np.random.rand(5)"
   ]
  },
  {
   "cell_type": "code",
   "execution_count": 21,
   "id": "a99b33bc-d4ce-492a-ba7a-47d9657ece43",
   "metadata": {},
   "outputs": [
    {
     "data": {
      "text/plain": [
       "array([[0.08664982, 0.29759636, 0.4041831 ],\n",
       "       [0.20269753, 0.30353933, 0.93107226]])"
      ]
     },
     "execution_count": 21,
     "metadata": {},
     "output_type": "execute_result"
    }
   ],
   "source": [
    "np.random.rand(2,3)"
   ]
  },
  {
   "cell_type": "code",
   "execution_count": 22,
   "id": "bb40c631-737c-4524-a683-ecefcad99e66",
   "metadata": {},
   "outputs": [
    {
     "data": {
      "text/plain": [
       "array([-1.37336477, -1.87964902,  0.00951498, -1.41980755])"
      ]
     },
     "execution_count": 22,
     "metadata": {},
     "output_type": "execute_result"
    }
   ],
   "source": [
    "np.random.randn(4) # this is with the normal distribution where as the prior was with the standard distribution "
   ]
  },
  {
   "cell_type": "code",
   "execution_count": 23,
   "id": "81f5204b-1a6a-4c6d-9348-0bda51ce87c8",
   "metadata": {},
   "outputs": [],
   "source": [
    "arr= np.arange(1,21).reshape(5,4)"
   ]
  },
  {
   "cell_type": "code",
   "execution_count": 24,
   "id": "f2230b52-9bc4-4c0a-afe1-914149bd1be7",
   "metadata": {},
   "outputs": [
    {
     "data": {
      "text/plain": [
       "array([[ 1,  2,  3,  4],\n",
       "       [ 5,  6,  7,  8],\n",
       "       [ 9, 10, 11, 12],\n",
       "       [13, 14, 15, 16],\n",
       "       [17, 18, 19, 20]])"
      ]
     },
     "execution_count": 24,
     "metadata": {},
     "output_type": "execute_result"
    }
   ],
   "source": [
    "arr"
   ]
  },
  {
   "cell_type": "code",
   "execution_count": 25,
   "id": "1f227868-f201-41f8-b835-189aa0a25b91",
   "metadata": {},
   "outputs": [
    {
     "data": {
      "text/plain": [
       "20"
      ]
     },
     "execution_count": 25,
     "metadata": {},
     "output_type": "execute_result"
    }
   ],
   "source": [
    "arr.shape\n",
    "arr.size"
   ]
  },
  {
   "cell_type": "code",
   "execution_count": 26,
   "id": "3c6d3781-14dc-47bc-98cb-b75d776be638",
   "metadata": {},
   "outputs": [
    {
     "data": {
      "text/plain": [
       "(5, 4)"
      ]
     },
     "execution_count": 26,
     "metadata": {},
     "output_type": "execute_result"
    }
   ],
   "source": [
    "arr.shape"
   ]
  },
  {
   "cell_type": "code",
   "execution_count": 27,
   "id": "cf0c4cb2-3a57-4bfd-a42c-058732b0e140",
   "metadata": {},
   "outputs": [
    {
     "data": {
      "text/plain": [
       "(5, 4)"
      ]
     },
     "execution_count": 27,
     "metadata": {},
     "output_type": "execute_result"
    }
   ],
   "source": [
    "arr.shape"
   ]
  },
  {
   "cell_type": "code",
   "execution_count": 28,
   "id": "89144d8a-9a89-4b85-923c-d28d370f5b5b",
   "metadata": {},
   "outputs": [
    {
     "data": {
      "text/plain": [
       "array([[ 1,  2,  3,  4],\n",
       "       [ 5,  6,  7,  8],\n",
       "       [ 9, 10, 11, 12],\n",
       "       [13, 14, 15, 16],\n",
       "       [17, 18, 19, 20]])"
      ]
     },
     "execution_count": 28,
     "metadata": {},
     "output_type": "execute_result"
    }
   ],
   "source": [
    "arr"
   ]
  },
  {
   "cell_type": "code",
   "execution_count": 29,
   "id": "ba6e9337-7566-4062-8a2c-3d1e270d3591",
   "metadata": {},
   "outputs": [
    {
     "data": {
      "text/plain": [
       "np.int64(20)"
      ]
     },
     "execution_count": 29,
     "metadata": {},
     "output_type": "execute_result"
    }
   ],
   "source": [
    "arr.max()"
   ]
  },
  {
   "cell_type": "code",
   "execution_count": 30,
   "id": "19cab116-882e-4c0b-bb13-d178297bab46",
   "metadata": {},
   "outputs": [
    {
     "data": {
      "text/plain": [
       "np.int64(1)"
      ]
     },
     "execution_count": 30,
     "metadata": {},
     "output_type": "execute_result"
    }
   ],
   "source": [
    "kripa = arr.min()\n",
    "kripa\n"
   ]
  },
  {
   "cell_type": "code",
   "execution_count": 31,
   "id": "3e8842a1-7749-4afb-a8bf-5a5c456b4e44",
   "metadata": {},
   "outputs": [],
   "source": [
    "flatted= arr.flatten()"
   ]
  },
  {
   "cell_type": "code",
   "execution_count": 32,
   "id": "03b2a337-0d68-41d2-bf29-c41f12311d18",
   "metadata": {},
   "outputs": [
    {
     "data": {
      "text/plain": [
       "np.int64(20)"
      ]
     },
     "execution_count": 32,
     "metadata": {},
     "output_type": "execute_result"
    }
   ],
   "source": [
    "anshu=flatted[19]\n",
    "anshu"
   ]
  },
  {
   "cell_type": "code",
   "execution_count": 33,
   "id": "f773fe77-4980-4c31-8796-c9ead9e6d40c",
   "metadata": {},
   "outputs": [
    {
     "data": {
      "text/plain": [
       "array([[ 1,  2,  3,  4],\n",
       "       [ 5,  6,  7,  8],\n",
       "       [ 9, 10, 11, 12],\n",
       "       [13, 14, 15, 16],\n",
       "       [17, 18, 19, 20]])"
      ]
     },
     "execution_count": 33,
     "metadata": {},
     "output_type": "execute_result"
    }
   ],
   "source": [
    "\n",
    "arr\n"
   ]
  },
  {
   "cell_type": "code",
   "execution_count": 34,
   "id": "403a3615-e69f-4d74-a6cc-9980c5a356f9",
   "metadata": {},
   "outputs": [
    {
     "data": {
      "text/plain": [
       "np.int64(210)"
      ]
     },
     "execution_count": 34,
     "metadata": {},
     "output_type": "execute_result"
    }
   ],
   "source": [
    "arr.sum()"
   ]
  },
  {
   "cell_type": "code",
   "execution_count": 35,
   "id": "7420ccbc-2d3c-4988-bdae-f1fc3a3afa1c",
   "metadata": {},
   "outputs": [
    {
     "data": {
      "text/plain": [
       "np.int64(210)"
      ]
     },
     "execution_count": 35,
     "metadata": {},
     "output_type": "execute_result"
    }
   ],
   "source": [
    "np.sum(arr)"
   ]
  },
  {
   "cell_type": "code",
   "execution_count": 36,
   "id": "427858a5-16c3-4af6-9d6d-b8a5e70a73dd",
   "metadata": {},
   "outputs": [
    {
     "data": {
      "text/plain": [
       "array([45, 50, 55, 60])"
      ]
     },
     "execution_count": 36,
     "metadata": {},
     "output_type": "execute_result"
    }
   ],
   "source": [
    "\n",
    "np.sum(arr,axis=0)"
   ]
  },
  {
   "cell_type": "code",
   "execution_count": 37,
   "id": "6ee71607-a109-44fb-92b6-955b3cff2247",
   "metadata": {},
   "outputs": [
    {
     "data": {
      "text/plain": [
       "array([[ 1,  2,  3,  4],\n",
       "       [ 5,  6,  7,  8],\n",
       "       [ 9, 10, 11, 12],\n",
       "       [13, 14, 15, 16],\n",
       "       [17, 18, 19, 20]])"
      ]
     },
     "execution_count": 37,
     "metadata": {},
     "output_type": "execute_result"
    }
   ],
   "source": [
    "arr"
   ]
  },
  {
   "cell_type": "code",
   "execution_count": 38,
   "id": "602dcd0c-e0ad-4777-a796-60bd917a6856",
   "metadata": {},
   "outputs": [
    {
     "data": {
      "text/plain": [
       "array([[ 1,  2,  3,  4],\n",
       "       [ 5,  6,  7,  8],\n",
       "       [ 9, 10, 11, 12],\n",
       "       [13, 14, 15, 16],\n",
       "       [17, 18, 19, 20]])"
      ]
     },
     "execution_count": 38,
     "metadata": {},
     "output_type": "execute_result"
    }
   ],
   "source": [
    "\n",
    "arr.reshape((5,4))"
   ]
  },
  {
   "cell_type": "code",
   "execution_count": 40,
   "id": "cfc36b51-7e83-4625-a424-d7a26e8ca895",
   "metadata": {},
   "outputs": [
    {
     "data": {
      "text/plain": [
       "array([[ 1,  2,  3,  4],\n",
       "       [ 5,  6,  7,  8],\n",
       "       [ 9, 10, 11, 12],\n",
       "       [13, 14, 15, 16],\n",
       "       [17, 18, 19, 20]])"
      ]
     },
     "execution_count": 40,
     "metadata": {},
     "output_type": "execute_result"
    }
   ],
   "source": [
    "arr"
   ]
  },
  {
   "cell_type": "code",
   "execution_count": 41,
   "id": "2d9d603b-9aa3-4693-b6e9-006358728991",
   "metadata": {},
   "outputs": [
    {
     "data": {
      "text/plain": [
       "array([[ 1,  2,  3,  4],\n",
       "       [ 5,  6,  7,  8],\n",
       "       [ 9, 10, 11, 12],\n",
       "       [13, 14, 15, 16],\n",
       "       [17, 18, 19, 20]])"
      ]
     },
     "execution_count": 41,
     "metadata": {},
     "output_type": "execute_result"
    }
   ],
   "source": [
    "arr"
   ]
  },
  {
   "cell_type": "code",
   "execution_count": 51,
   "id": "dc8d3d13-55fd-444e-a7db-db0fd8634401",
   "metadata": {},
   "outputs": [
    {
     "data": {
      "text/plain": [
       "array([[ 1,  2,  3,  4,  5],\n",
       "       [ 6,  7,  8,  9, 10],\n",
       "       [11, 12, 13, 14, 15],\n",
       "       [16, 17, 18, 19, 20]])"
      ]
     },
     "execution_count": 51,
     "metadata": {},
     "output_type": "execute_result"
    }
   ],
   "source": [
    "arr1=np.arange(1,21).reshape((4,5))\n",
    "arr1"
   ]
  },
  {
   "cell_type": "code",
   "execution_count": 53,
   "id": "87b23fb1-1255-45a2-b0e4-ea8a0cf00b17",
   "metadata": {},
   "outputs": [
    {
     "data": {
      "text/plain": [
       "np.int64(19)"
      ]
     },
     "execution_count": 53,
     "metadata": {},
     "output_type": "execute_result"
    }
   ],
   "source": [
    "arr1.argmax()"
   ]
  },
  {
   "cell_type": "code",
   "execution_count": 57,
   "id": "088c9128-004c-4ee7-8492-e1ee13a5ea81",
   "metadata": {},
   "outputs": [],
   "source": [
    "flat=arr1.flatten()"
   ]
  },
  {
   "cell_type": "code",
   "execution_count": 58,
   "id": "fb21c314-2ae9-4034-8604-11eb578cd74e",
   "metadata": {},
   "outputs": [
    {
     "data": {
      "text/plain": [
       "np.int64(20)"
      ]
     },
     "execution_count": 58,
     "metadata": {},
     "output_type": "execute_result"
    }
   ],
   "source": [
    "flat[19]"
   ]
  },
  {
   "cell_type": "code",
   "execution_count": 59,
   "id": "904d6987-2990-4931-84f3-7b0af2c62ae2",
   "metadata": {},
   "outputs": [
    {
     "data": {
      "text/plain": [
       "array([[ 1,  2,  3,  4,  5],\n",
       "       [ 6,  7,  8,  9, 10],\n",
       "       [11, 12, 13, 14, 15],\n",
       "       [16, 17, 18, 19, 20]])"
      ]
     },
     "execution_count": 59,
     "metadata": {},
     "output_type": "execute_result"
    }
   ],
   "source": [
    "arr1"
   ]
  },
  {
   "cell_type": "code",
   "execution_count": 60,
   "id": "87725e61-06f4-45ab-be2a-ac366e8d3040",
   "metadata": {},
   "outputs": [
    {
     "data": {
      "text/plain": [
       "array([ 1,  2,  3,  4,  5,  6,  7,  8,  9, 10, 11, 12, 13, 14, 15, 16, 17,\n",
       "       18, 19, 20])"
      ]
     },
     "execution_count": 60,
     "metadata": {},
     "output_type": "execute_result"
    }
   ],
   "source": [
    "flat"
   ]
  },
  {
   "cell_type": "code",
   "execution_count": 62,
   "id": "bae12638-121b-4ff6-9646-f8cfd54e97a0",
   "metadata": {},
   "outputs": [
    {
     "data": {
      "text/plain": [
       "array([[1, 2]])"
      ]
     },
     "execution_count": 62,
     "metadata": {},
     "output_type": "execute_result"
    }
   ],
   "source": [
    "np.argwhere(arr1==8)"
   ]
  },
  {
   "cell_type": "code",
   "execution_count": 63,
   "id": "a7fd4497-9691-4a04-a540-502af30f7c73",
   "metadata": {},
   "outputs": [
    {
     "data": {
      "text/plain": [
       "array([[12]])"
      ]
     },
     "execution_count": 63,
     "metadata": {},
     "output_type": "execute_result"
    }
   ],
   "source": [
    "np.argwhere(flat==13)"
   ]
  },
  {
   "cell_type": "code",
   "execution_count": 64,
   "id": "a150a793-b7be-42ac-8463-63d225c10b89",
   "metadata": {},
   "outputs": [
    {
     "data": {
      "text/plain": [
       "np.int64(13)"
      ]
     },
     "execution_count": 64,
     "metadata": {},
     "output_type": "execute_result"
    }
   ],
   "source": [
    "flat[12]"
   ]
  },
  {
   "cell_type": "code",
   "execution_count": 65,
   "id": "22fbfed4-2545-44b5-a273-bc2b6cd4378e",
   "metadata": {},
   "outputs": [
    {
     "data": {
      "text/plain": [
       "array([[ 1,  2,  3,  4,  5],\n",
       "       [ 6,  7,  8,  9, 10],\n",
       "       [11, 12, 13, 14, 15],\n",
       "       [16, 17, 18, 19, 20]])"
      ]
     },
     "execution_count": 65,
     "metadata": {},
     "output_type": "execute_result"
    }
   ],
   "source": [
    "arr1"
   ]
  },
  {
   "cell_type": "code",
   "execution_count": 66,
   "id": "caa87fb4-a629-42b0-a660-0cb152a55f5a",
   "metadata": {},
   "outputs": [
    {
     "data": {
      "text/plain": [
       "array([1, 2, 3, 4, 5])"
      ]
     },
     "execution_count": 66,
     "metadata": {},
     "output_type": "execute_result"
    }
   ],
   "source": [
    "arr1[0]"
   ]
  },
  {
   "cell_type": "code",
   "execution_count": 67,
   "id": "2a54989f-0c44-44dc-ace1-9fdab4553f12",
   "metadata": {},
   "outputs": [
    {
     "data": {
      "text/plain": [
       "np.int64(1)"
      ]
     },
     "execution_count": 67,
     "metadata": {},
     "output_type": "execute_result"
    }
   ],
   "source": [
    "arr1[0,0]"
   ]
  },
  {
   "cell_type": "code",
   "execution_count": 68,
   "id": "79e3795d-06e0-4d46-a651-ccf6cb36f11c",
   "metadata": {},
   "outputs": [
    {
     "data": {
      "text/plain": [
       "array([[1, 2]])"
      ]
     },
     "execution_count": 68,
     "metadata": {},
     "output_type": "execute_result"
    }
   ],
   "source": [
    "np.argwhere(arr1==8)"
   ]
  },
  {
   "cell_type": "code",
   "execution_count": 69,
   "id": "fc62d33b-275f-4b76-a41b-fcf607d9a99b",
   "metadata": {},
   "outputs": [
    {
     "data": {
      "text/plain": [
       "np.int64(8)"
      ]
     },
     "execution_count": 69,
     "metadata": {},
     "output_type": "execute_result"
    }
   ],
   "source": [
    "arr1[1,2]"
   ]
  },
  {
   "cell_type": "code",
   "execution_count": 70,
   "id": "ff04b9ae-4d7e-4344-a9a7-ea03c525cba9",
   "metadata": {},
   "outputs": [
    {
     "data": {
      "text/plain": [
       "array([[ 1,  2,  3,  4,  5],\n",
       "       [ 6,  7,  8,  9, 10],\n",
       "       [11, 12, 13, 14, 15],\n",
       "       [16, 17, 18, 19, 20]])"
      ]
     },
     "execution_count": 70,
     "metadata": {},
     "output_type": "execute_result"
    }
   ],
   "source": [
    "arr1"
   ]
  },
  {
   "cell_type": "code",
   "execution_count": 71,
   "id": "e9a893b7-39d3-405b-89f5-24f3f784c6ff",
   "metadata": {},
   "outputs": [
    {
     "data": {
      "text/plain": [
       "array([ 3,  7, 11, 15, 19])"
      ]
     },
     "execution_count": 71,
     "metadata": {},
     "output_type": "execute_result"
    }
   ],
   "source": [
    "arr[:,2]"
   ]
  },
  {
   "cell_type": "code",
   "execution_count": 72,
   "id": "bd81787d-64b3-4a2d-8fed-d0829abb105f",
   "metadata": {},
   "outputs": [
    {
     "data": {
      "text/plain": [
       "array([[False,  True, False,  True, False],\n",
       "       [ True, False,  True, False,  True],\n",
       "       [False,  True, False,  True, False],\n",
       "       [ True, False,  True, False,  True]])"
      ]
     },
     "execution_count": 72,
     "metadata": {},
     "output_type": "execute_result"
    }
   ],
   "source": [
    "anshu= arr1 % 2 ==0 \n",
    "anshu"
   ]
  },
  {
   "cell_type": "code",
   "execution_count": 73,
   "id": "6f6f34bb-4771-4004-b78e-7e28ff1c0590",
   "metadata": {},
   "outputs": [],
   "source": [
    "arr1=arr1[anshu]"
   ]
  },
  {
   "cell_type": "code",
   "execution_count": 74,
   "id": "7fa9eade-7e7c-4ac8-8c18-3a706986bca2",
   "metadata": {},
   "outputs": [
    {
     "data": {
      "text/plain": [
       "array([ 2,  4,  6,  8, 10, 12, 14, 16, 18, 20])"
      ]
     },
     "execution_count": 74,
     "metadata": {},
     "output_type": "execute_result"
    }
   ],
   "source": [
    "arr1"
   ]
  },
  {
   "cell_type": "code",
   "execution_count": 75,
   "id": "5a4f8c5b-d7ed-44d7-9995-33e7d0025401",
   "metadata": {},
   "outputs": [
    {
     "data": {
      "text/plain": [
       "array([ 2,  4,  6,  8, 10, 12, 14, 16, 18, 20])"
      ]
     },
     "execution_count": 75,
     "metadata": {},
     "output_type": "execute_result"
    }
   ],
   "source": [
    "arr1"
   ]
  },
  {
   "cell_type": "code",
   "execution_count": 91,
   "id": "d6abd8ab-565b-4403-b21c-2720e30b5862",
   "metadata": {},
   "outputs": [],
   "source": [
    "arr1=np.arange(0,16).reshape((4,4))"
   ]
  },
  {
   "cell_type": "code",
   "execution_count": 89,
   "id": "c4e77e9e-8984-499c-9350-b0fddd3e2878",
   "metadata": {},
   "outputs": [
    {
     "data": {
      "text/plain": [
       "array([[0., 0., 0., 0.],\n",
       "       [0., 0., 0., 0.],\n",
       "       [0., 0., 0., 0.],\n",
       "       [0., 0., 0., 0.]])"
      ]
     },
     "execution_count": 89,
     "metadata": {},
     "output_type": "execute_result"
    }
   ],
   "source": [
    "arr1"
   ]
  },
  {
   "cell_type": "code",
   "execution_count": 84,
   "id": "5238222e-227d-4730-a6ad-3949234a858e",
   "metadata": {},
   "outputs": [],
   "source": [
    "arr3=arr1"
   ]
  },
  {
   "cell_type": "code",
   "execution_count": 85,
   "id": "6d1a9752-a1b7-4fa8-9344-3e50a36af849",
   "metadata": {},
   "outputs": [
    {
     "data": {
      "text/plain": [
       "array([[0., 0., 0., 0.],\n",
       "       [0., 0., 0., 0.],\n",
       "       [0., 0., 0., 0.],\n",
       "       [0., 0., 0., 0.]])"
      ]
     },
     "execution_count": 85,
     "metadata": {},
     "output_type": "execute_result"
    }
   ],
   "source": [
    "arr3"
   ]
  },
  {
   "cell_type": "code",
   "execution_count": 86,
   "id": "9705c698-a079-4f10-83cb-0b5953d636ce",
   "metadata": {},
   "outputs": [],
   "source": [
    "arr3=arr1.copy()"
   ]
  },
  {
   "cell_type": "code",
   "execution_count": 87,
   "id": "5428e4bb-56e1-45e1-985d-0e62e2172321",
   "metadata": {},
   "outputs": [
    {
     "data": {
      "text/plain": [
       "array([[0., 0., 0., 0.],\n",
       "       [0., 0., 0., 0.],\n",
       "       [0., 0., 0., 0.],\n",
       "       [0., 0., 0., 0.]])"
      ]
     },
     "execution_count": 87,
     "metadata": {},
     "output_type": "execute_result"
    }
   ],
   "source": [
    "arr3"
   ]
  },
  {
   "cell_type": "code",
   "execution_count": 88,
   "id": "17a5fe81-57f4-41d8-82df-075c7974e571",
   "metadata": {},
   "outputs": [
    {
     "data": {
      "text/plain": [
       "array([[0., 0., 0., 0.],\n",
       "       [0., 0., 0., 0.],\n",
       "       [0., 0., 0., 0.],\n",
       "       [0., 0., 0., 0.]])"
      ]
     },
     "execution_count": 88,
     "metadata": {},
     "output_type": "execute_result"
    }
   ],
   "source": [
    "arr1"
   ]
  },
  {
   "cell_type": "code",
   "execution_count": 92,
   "id": "1c947155-97a9-41f1-bac2-dbd7f02cd3e8",
   "metadata": {},
   "outputs": [],
   "source": [
    "anshu= np.arange(1,17).reshape((4,4))"
   ]
  },
  {
   "cell_type": "code",
   "execution_count": 93,
   "id": "c76711e4-fac5-4df4-a82e-3849cda173de",
   "metadata": {},
   "outputs": [
    {
     "data": {
      "text/plain": [
       "array([[ 1,  2,  3,  4],\n",
       "       [ 5,  6,  7,  8],\n",
       "       [ 9, 10, 11, 12],\n",
       "       [13, 14, 15, 16]])"
      ]
     },
     "execution_count": 93,
     "metadata": {},
     "output_type": "execute_result"
    }
   ],
   "source": [
    "anshu"
   ]
  },
  {
   "cell_type": "code",
   "execution_count": 94,
   "id": "b1501276-6fbe-481c-9ac7-ced3ea1b77bf",
   "metadata": {},
   "outputs": [
    {
     "data": {
      "text/plain": [
       "array([[0., 0., 0., 0.],\n",
       "       [0., 0., 0., 0.],\n",
       "       [0., 0., 0., 0.],\n",
       "       [0., 0., 0., 0.]])"
      ]
     },
     "execution_count": 94,
     "metadata": {},
     "output_type": "execute_result"
    }
   ],
   "source": [
    "arr3"
   ]
  },
  {
   "cell_type": "code",
   "execution_count": 95,
   "id": "fcee1403-2b00-40d1-8576-8950da1ab997",
   "metadata": {},
   "outputs": [],
   "source": [
    "arr3=anshu"
   ]
  },
  {
   "cell_type": "code",
   "execution_count": 96,
   "id": "633d8f61-85d9-40ae-87d8-80dca88a0bd0",
   "metadata": {},
   "outputs": [
    {
     "data": {
      "text/plain": [
       "array([[ 1,  2,  3,  4],\n",
       "       [ 5,  6,  7,  8],\n",
       "       [ 9, 10, 11, 12],\n",
       "       [13, 14, 15, 16]])"
      ]
     },
     "execution_count": 96,
     "metadata": {},
     "output_type": "execute_result"
    }
   ],
   "source": [
    "arr3"
   ]
  },
  {
   "cell_type": "code",
   "execution_count": 97,
   "id": "933e39ae-4b5c-4b56-8b47-427987259c4c",
   "metadata": {},
   "outputs": [
    {
     "data": {
      "text/plain": [
       "array([[ 1,  2,  3,  4],\n",
       "       [ 5,  6,  7,  8],\n",
       "       [ 9, 10, 11, 12],\n",
       "       [13, 14, 15, 16]])"
      ]
     },
     "execution_count": 97,
     "metadata": {},
     "output_type": "execute_result"
    }
   ],
   "source": [
    "anshu"
   ]
  },
  {
   "cell_type": "code",
   "execution_count": 98,
   "id": "0d37916d-b2db-433c-b4d5-875802630596",
   "metadata": {},
   "outputs": [],
   "source": [
    "anshu=arr3"
   ]
  },
  {
   "cell_type": "code",
   "execution_count": 99,
   "id": "2354fff7-08e6-44c5-882b-bd4afb7729bf",
   "metadata": {},
   "outputs": [
    {
     "data": {
      "text/plain": [
       "array([[ 1,  2,  3,  4],\n",
       "       [ 5,  6,  7,  8],\n",
       "       [ 9, 10, 11, 12],\n",
       "       [13, 14, 15, 16]])"
      ]
     },
     "execution_count": 99,
     "metadata": {},
     "output_type": "execute_result"
    }
   ],
   "source": [
    "anshu"
   ]
  },
  {
   "cell_type": "code",
   "execution_count": 100,
   "id": "a5bd7fcc-f6cc-41f2-ab1c-34968084d283",
   "metadata": {},
   "outputs": [
    {
     "data": {
      "text/plain": [
       "array([[ 1,  2,  3,  4],\n",
       "       [ 5,  6,  7,  8],\n",
       "       [ 9, 10, 11, 12],\n",
       "       [13, 14, 15, 16]])"
      ]
     },
     "execution_count": 100,
     "metadata": {},
     "output_type": "execute_result"
    }
   ],
   "source": [
    "arr3"
   ]
  },
  {
   "cell_type": "code",
   "execution_count": 101,
   "id": "83380aa2-71cd-4a77-9bb4-9d4c658af7bb",
   "metadata": {},
   "outputs": [
    {
     "data": {
      "text/plain": [
       "array([[-19, -18, -17, -16],\n",
       "       [-15, -14, -13, -12],\n",
       "       [-11, -10,  -9,  -8],\n",
       "       [ -7,  -6,  -5,  -4]])"
      ]
     },
     "execution_count": 101,
     "metadata": {},
     "output_type": "execute_result"
    }
   ],
   "source": [
    "arr3=arr3 -20\n",
    "arr3"
   ]
  },
  {
   "cell_type": "code",
   "execution_count": 103,
   "id": "34b1c634-1b24-42f8-ac29-0e1186ff4f0f",
   "metadata": {},
   "outputs": [
    {
     "data": {
      "text/plain": [
       "array([[-470, -540, -610, -680],\n",
       "       [-358, -412, -466, -520],\n",
       "       [-246, -284, -322, -360],\n",
       "       [-134, -156, -178, -200]])"
      ]
     },
     "execution_count": 103,
     "metadata": {},
     "output_type": "execute_result"
    }
   ],
   "source": [
    "arr3 @ anshu"
   ]
  },
  {
   "cell_type": "code",
   "execution_count": 104,
   "id": "dedd3dea-d4f4-496b-9fb3-c2f92f9def34",
   "metadata": {},
   "outputs": [
    {
     "data": {
      "text/plain": [
       "array([[ 1,  5,  9, 13],\n",
       "       [ 2,  6, 10, 14],\n",
       "       [ 3,  7, 11, 15],\n",
       "       [ 4,  8, 12, 16]])"
      ]
     },
     "execution_count": 104,
     "metadata": {},
     "output_type": "execute_result"
    }
   ],
   "source": [
    "anshu.T"
   ]
  },
  {
   "cell_type": "code",
   "execution_count": 108,
   "id": "de899261-09c6-4970-a2dd-8ade13ce7d9e",
   "metadata": {},
   "outputs": [
    {
     "data": {
      "text/plain": [
       "array([[ 0,  1,  2,  3],\n",
       "       [ 4,  5,  6,  7],\n",
       "       [ 8,  9, 10, 11]])"
      ]
     },
     "execution_count": 108,
     "metadata": {},
     "output_type": "execute_result"
    }
   ],
   "source": [
    "np.reshape(np.arange(12),(3,4))"
   ]
  },
  {
   "cell_type": "code",
   "execution_count": 109,
   "id": "a6c2a71c-97f3-4571-bc93-068d61df4faa",
   "metadata": {},
   "outputs": [
    {
     "data": {
      "text/plain": [
       "2"
      ]
     },
     "execution_count": 109,
     "metadata": {},
     "output_type": "execute_result"
    }
   ],
   "source": [
    "anshu.ndim"
   ]
  },
  {
   "cell_type": "code",
   "execution_count": 110,
   "id": "161d7014-f2e2-4389-af51-59e4cb037d1f",
   "metadata": {},
   "outputs": [
    {
     "data": {
      "text/plain": [
       "array([[ 1,  2,  3,  4],\n",
       "       [ 5,  6,  7,  8],\n",
       "       [ 9, 10, 11, 12],\n",
       "       [13, 14, 15, 16]])"
      ]
     },
     "execution_count": 110,
     "metadata": {},
     "output_type": "execute_result"
    }
   ],
   "source": [
    "anshu"
   ]
  },
  {
   "cell_type": "code",
   "execution_count": null,
   "id": "5749e274-2523-49e8-b7a2-cdcfbdc549da",
   "metadata": {},
   "outputs": [],
   "source": []
  }
 ],
 "metadata": {
  "kernelspec": {
   "display_name": "Python 3 (ipykernel)",
   "language": "python",
   "name": "python3"
  },
  "language_info": {
   "codemirror_mode": {
    "name": "ipython",
    "version": 3
   },
   "file_extension": ".py",
   "mimetype": "text/x-python",
   "name": "python",
   "nbconvert_exporter": "python",
   "pygments_lexer": "ipython3",
   "version": "3.13.2"
  }
 },
 "nbformat": 4,
 "nbformat_minor": 5
}
