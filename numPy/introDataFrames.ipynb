{
 "cells": [
  {
   "cell_type": "code",
   "execution_count": null,
   "id": "a04f2834-54ac-476b-9004-87928f047bc6",
   "metadata": {},
   "outputs": [],
   "source": []
  }
 ],
 "metadata": {
  "kernelspec": {
   "display_name": "",
   "name": ""
  },
  "language_info": {
   "name": ""
  }
 },
 "nbformat": 4,
 "nbformat_minor": 5
}
