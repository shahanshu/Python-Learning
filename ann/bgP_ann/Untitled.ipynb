{
 "cells": [
  {
   "cell_type": "markdown",
   "id": "7eabe1fc-7d05-45d9-9bc5-4c6e1c856efc",
   "metadata": {},
   "source": [
    "## BACK_PROPAGATION_ANN\n"
   ]
  },
  {
   "cell_type": "code",
   "execution_count": null,
   "id": "2f09491c-5883-48d3-93fd-d3c4f52e630b",
   "metadata": {},
   "outputs": [],
   "source": []
  },
  {
   "cell_type": "code",
   "execution_count": null,
   "id": "96edda65-fbbb-4a56-89b1-cefc892dc707",
   "metadata": {},
   "outputs": [],
   "source": []
  }
 ],
 "metadata": {
  "kernelspec": {
   "display_name": "Python 3 (ipykernel)",
   "language": "python",
   "name": "python3"
  },
  "language_info": {
   "codemirror_mode": {
    "name": "ipython",
    "version": 3
   },
   "file_extension": ".py",
   "mimetype": "text/x-python",
   "name": "python",
   "nbconvert_exporter": "python",
   "pygments_lexer": "ipython3",
   "version": "3.13.2"
  }
 },
 "nbformat": 4,
 "nbformat_minor": 5
}
