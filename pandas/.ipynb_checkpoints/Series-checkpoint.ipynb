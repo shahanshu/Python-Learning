{
 "cells": [
  {
   "cell_type": "code",
   "execution_count": 1,
   "id": "728c86f1-4bca-4e80-aa7c-61a443d4afa8",
   "metadata": {},
   "outputs": [],
   "source": [
    "%matplotlib inline\n",
    "import pandas as pd \n",
    "import numpy as np"
   ]
  },
  {
   "cell_type": "code",
   "execution_count": 4,
   "id": "b6680777-bfd1-4e04-aca2-1bede1787f13",
   "metadata": {},
   "outputs": [
    {
     "data": {
      "text/plain": [
       "0    3\n",
       "1    4\n",
       "2    5\n",
       "3    6\n",
       "dtype: int64"
      ]
     },
     "execution_count": 4,
     "metadata": {},
     "output_type": "execute_result"
    }
   ],
   "source": [
    "labels=['a','b','c','d']\n",
    "my_list=[3,4,5,6]\n",
    "arr= np.array([10,30,34,23])\n",
    "d={\n",
    "    \"name\":\"anshu kumar shah\", \n",
    "    \"age\":22, \n",
    "    \"mobile\":9815708027\n",
    "}\n",
    "pd.Series(my_list)"
   ]
  },
  {
   "cell_type": "code",
   "execution_count": 5,
   "id": "1c4cac83-12c3-494c-92cf-58dd89a6c8f6",
   "metadata": {},
   "outputs": [
    {
     "data": {
      "text/plain": [
       "a    3\n",
       "b    4\n",
       "c    5\n",
       "d    6\n",
       "dtype: int64"
      ]
     },
     "execution_count": 5,
     "metadata": {},
     "output_type": "execute_result"
    }
   ],
   "source": [
    "pd.Series(my_list,index=labels)"
   ]
  },
  {
   "cell_type": "code",
   "execution_count": 6,
   "id": "8ee38a28-5b98-4753-872d-4244556e37f7",
   "metadata": {},
   "outputs": [
    {
     "data": {
      "text/plain": [
       "0    10\n",
       "1    30\n",
       "2    34\n",
       "3    23\n",
       "dtype: int64"
      ]
     },
     "execution_count": 6,
     "metadata": {},
     "output_type": "execute_result"
    }
   ],
   "source": [
    "pd.Series(arr)"
   ]
  },
  {
   "cell_type": "code",
   "execution_count": 7,
   "id": "0c525f0f-aa30-4fae-824a-bc103259036a",
   "metadata": {},
   "outputs": [
    {
     "data": {
      "text/plain": [
       "a    10\n",
       "b    30\n",
       "c    34\n",
       "d    23\n",
       "dtype: int64"
      ]
     },
     "execution_count": 7,
     "metadata": {},
     "output_type": "execute_result"
    }
   ],
   "source": [
    "pd.Series(arr,index=labels)"
   ]
  },
  {
   "cell_type": "code",
   "execution_count": 8,
   "id": "e5bc12e5-acb2-48fe-8197-292dec9a81f3",
   "metadata": {},
   "outputs": [
    {
     "data": {
      "text/plain": [
       "name      anshu kumar shah\n",
       "age                     22\n",
       "mobile          9815708027\n",
       "dtype: object"
      ]
     },
     "execution_count": 8,
     "metadata": {},
     "output_type": "execute_result"
    }
   ],
   "source": [
    "pd.Series(d)"
   ]
  },
  {
   "cell_type": "code",
   "execution_count": null,
   "id": "85b331cb-0e8d-4002-a3ae-199145909264",
   "metadata": {},
   "outputs": [],
   "source": []
  }
 ],
 "metadata": {
  "kernelspec": {
   "display_name": "Python 3 (ipykernel)",
   "language": "python",
   "name": "python3"
  },
  "language_info": {
   "codemirror_mode": {
    "name": "ipython",
    "version": 3
   },
   "file_extension": ".py",
   "mimetype": "text/x-python",
   "name": "python",
   "nbconvert_exporter": "python",
   "pygments_lexer": "ipython3",
   "version": "3.13.2"
  }
 },
 "nbformat": 4,
 "nbformat_minor": 5
}
