{
 "cells": [
  {
   "cell_type": "code",
   "execution_count": 1,
   "id": "058aa6b2-95cf-475b-abfd-27497dbf2d0d",
   "metadata": {},
   "outputs": [],
   "source": [
    "import numpy as np \n",
    "import pandas as pd \n"
   ]
  },
  {
   "cell_type": "code",
   "execution_count": 2,
   "id": "6628cff3-285b-4a1e-a8e3-3fc3f3baa188",
   "metadata": {},
   "outputs": [],
   "source": [
    "data={\n",
    "    \"name\":['anshu','aman ','junu','anna'],\n",
    "    \"age\":[34,23,34,34], \n",
    "    \"address\":[\"dharan\",\"ktm\",\"ktm\",'ktm'],\n",
    "    \"Salary_in_thousands\":[23,34323,34534,34534]\n",
    "}\n",
    "labels=['1','2','3','4']"
   ]
  },
  {
   "cell_type": "code",
   "execution_count": 3,
   "id": "81499016-940d-4126-9589-6ec53403a2a4",
   "metadata": {},
   "outputs": [],
   "source": [
    "df=pd.DataFrame(data,index=labels)"
   ]
  },
  {
   "cell_type": "code",
   "execution_count": 4,
   "id": "bbb46916-a376-45c5-a6f3-d918661b6f9f",
   "metadata": {},
   "outputs": [],
   "source": [
    "siblings =[\n",
    "    ['anhsu','dharan',22,1000],\n",
    "    ['aman','ktm',3500]\n",
    "]"
   ]
  },
  {
   "cell_type": "code",
   "execution_count": 5,
   "id": "0212a2c0-0624-4665-9156-6ae1cc7fb3dc",
   "metadata": {},
   "outputs": [],
   "source": [
    "df2=pd.DataFrame(siblings)"
   ]
  },
  {
   "cell_type": "code",
   "execution_count": 6,
   "id": "aad5778a-0228-4975-971a-09c6c697ef4b",
   "metadata": {},
   "outputs": [
    {
     "data": {
      "text/html": [
       "<div>\n",
       "<style scoped>\n",
       "    .dataframe tbody tr th:only-of-type {\n",
       "        vertical-align: middle;\n",
       "    }\n",
       "\n",
       "    .dataframe tbody tr th {\n",
       "        vertical-align: top;\n",
       "    }\n",
       "\n",
       "    .dataframe thead th {\n",
       "        text-align: right;\n",
       "    }\n",
       "</style>\n",
       "<table border=\"1\" class=\"dataframe\">\n",
       "  <thead>\n",
       "    <tr style=\"text-align: right;\">\n",
       "      <th></th>\n",
       "      <th>0</th>\n",
       "      <th>1</th>\n",
       "      <th>2</th>\n",
       "      <th>3</th>\n",
       "    </tr>\n",
       "  </thead>\n",
       "  <tbody>\n",
       "    <tr>\n",
       "      <th>0</th>\n",
       "      <td>anhsu</td>\n",
       "      <td>dharan</td>\n",
       "      <td>22</td>\n",
       "      <td>1000.0</td>\n",
       "    </tr>\n",
       "    <tr>\n",
       "      <th>1</th>\n",
       "      <td>aman</td>\n",
       "      <td>ktm</td>\n",
       "      <td>3500</td>\n",
       "      <td>NaN</td>\n",
       "    </tr>\n",
       "  </tbody>\n",
       "</table>\n",
       "</div>"
      ],
      "text/plain": [
       "       0       1     2       3\n",
       "0  anhsu  dharan    22  1000.0\n",
       "1   aman     ktm  3500     NaN"
      ]
     },
     "execution_count": 6,
     "metadata": {},
     "output_type": "execute_result"
    }
   ],
   "source": [
    "df2"
   ]
  },
  {
   "cell_type": "code",
   "execution_count": 7,
   "id": "3a495874-e07c-44d0-aa31-a46537a9bd1e",
   "metadata": {},
   "outputs": [],
   "source": [
    "cl=['name','Address','age','Salary NRP']\n"
   ]
  },
  {
   "cell_type": "code",
   "execution_count": 8,
   "id": "39a0b26a-5f41-4eed-b6d0-c681dcb1df2d",
   "metadata": {},
   "outputs": [],
   "source": [
    "df2=pd.DataFrame(siblings,columns=cl)\n"
   ]
  },
  {
   "cell_type": "code",
   "execution_count": 9,
   "id": "c99c4771-f53d-43a0-9d94-bf9ccd34ee23",
   "metadata": {},
   "outputs": [
    {
     "data": {
      "text/html": [
       "<div>\n",
       "<style scoped>\n",
       "    .dataframe tbody tr th:only-of-type {\n",
       "        vertical-align: middle;\n",
       "    }\n",
       "\n",
       "    .dataframe tbody tr th {\n",
       "        vertical-align: top;\n",
       "    }\n",
       "\n",
       "    .dataframe thead th {\n",
       "        text-align: right;\n",
       "    }\n",
       "</style>\n",
       "<table border=\"1\" class=\"dataframe\">\n",
       "  <thead>\n",
       "    <tr style=\"text-align: right;\">\n",
       "      <th></th>\n",
       "      <th>name</th>\n",
       "      <th>Address</th>\n",
       "      <th>age</th>\n",
       "      <th>Salary NRP</th>\n",
       "    </tr>\n",
       "  </thead>\n",
       "  <tbody>\n",
       "    <tr>\n",
       "      <th>0</th>\n",
       "      <td>anhsu</td>\n",
       "      <td>dharan</td>\n",
       "      <td>22</td>\n",
       "      <td>1000.0</td>\n",
       "    </tr>\n",
       "    <tr>\n",
       "      <th>1</th>\n",
       "      <td>aman</td>\n",
       "      <td>ktm</td>\n",
       "      <td>3500</td>\n",
       "      <td>NaN</td>\n",
       "    </tr>\n",
       "  </tbody>\n",
       "</table>\n",
       "</div>"
      ],
      "text/plain": [
       "    name Address   age  Salary NRP\n",
       "0  anhsu  dharan    22      1000.0\n",
       "1   aman     ktm  3500         NaN"
      ]
     },
     "execution_count": 9,
     "metadata": {},
     "output_type": "execute_result"
    }
   ],
   "source": [
    "df2"
   ]
  },
  {
   "cell_type": "code",
   "execution_count": 10,
   "id": "9cc9e76b-0080-44c7-a608-923f4bd1f920",
   "metadata": {},
   "outputs": [
    {
     "data": {
      "text/html": [
       "<div>\n",
       "<style scoped>\n",
       "    .dataframe tbody tr th:only-of-type {\n",
       "        vertical-align: middle;\n",
       "    }\n",
       "\n",
       "    .dataframe tbody tr th {\n",
       "        vertical-align: top;\n",
       "    }\n",
       "\n",
       "    .dataframe thead th {\n",
       "        text-align: right;\n",
       "    }\n",
       "</style>\n",
       "<table border=\"1\" class=\"dataframe\">\n",
       "  <thead>\n",
       "    <tr style=\"text-align: right;\">\n",
       "      <th></th>\n",
       "      <th>name</th>\n",
       "      <th>age</th>\n",
       "      <th>address</th>\n",
       "      <th>Salary_in_thousands</th>\n",
       "    </tr>\n",
       "  </thead>\n",
       "  <tbody>\n",
       "    <tr>\n",
       "      <th>1</th>\n",
       "      <td>anshu</td>\n",
       "      <td>34</td>\n",
       "      <td>dharan</td>\n",
       "      <td>23</td>\n",
       "    </tr>\n",
       "    <tr>\n",
       "      <th>2</th>\n",
       "      <td>aman</td>\n",
       "      <td>23</td>\n",
       "      <td>ktm</td>\n",
       "      <td>34323</td>\n",
       "    </tr>\n",
       "    <tr>\n",
       "      <th>3</th>\n",
       "      <td>junu</td>\n",
       "      <td>34</td>\n",
       "      <td>ktm</td>\n",
       "      <td>34534</td>\n",
       "    </tr>\n",
       "    <tr>\n",
       "      <th>4</th>\n",
       "      <td>anna</td>\n",
       "      <td>34</td>\n",
       "      <td>ktm</td>\n",
       "      <td>34534</td>\n",
       "    </tr>\n",
       "  </tbody>\n",
       "</table>\n",
       "</div>"
      ],
      "text/plain": [
       "    name  age address  Salary_in_thousands\n",
       "1  anshu   34  dharan                   23\n",
       "2  aman    23     ktm                34323\n",
       "3   junu   34     ktm                34534\n",
       "4   anna   34     ktm                34534"
      ]
     },
     "execution_count": 10,
     "metadata": {},
     "output_type": "execute_result"
    }
   ],
   "source": [
    "df"
   ]
  },
  {
   "cell_type": "markdown",
   "id": "deb6387f-02bb-47c0-9ece-2756f4d7857c",
   "metadata": {},
   "source": [
    "# selecting a columns "
   ]
  },
  {
   "cell_type": "code",
   "execution_count": 11,
   "id": "b44ef95c-7822-4260-8488-93107fda0df5",
   "metadata": {},
   "outputs": [
    {
     "data": {
      "text/plain": [
       "1       23\n",
       "2    34323\n",
       "3    34534\n",
       "4    34534\n",
       "Name: Salary_in_thousands, dtype: int64"
      ]
     },
     "execution_count": 11,
     "metadata": {},
     "output_type": "execute_result"
    }
   ],
   "source": [
    "df['Salary_in_thousands']"
   ]
  },
  {
   "cell_type": "markdown",
   "id": "7051c64f-1999-457f-a3de-19452ba78d55",
   "metadata": {},
   "source": [
    "# for the two or more columns selection "
   ]
  },
  {
   "cell_type": "code",
   "execution_count": 12,
   "id": "1aaffd51-2389-4164-bbeb-76dcf73691ca",
   "metadata": {},
   "outputs": [
    {
     "data": {
      "text/html": [
       "<div>\n",
       "<style scoped>\n",
       "    .dataframe tbody tr th:only-of-type {\n",
       "        vertical-align: middle;\n",
       "    }\n",
       "\n",
       "    .dataframe tbody tr th {\n",
       "        vertical-align: top;\n",
       "    }\n",
       "\n",
       "    .dataframe thead th {\n",
       "        text-align: right;\n",
       "    }\n",
       "</style>\n",
       "<table border=\"1\" class=\"dataframe\">\n",
       "  <thead>\n",
       "    <tr style=\"text-align: right;\">\n",
       "      <th></th>\n",
       "      <th>name</th>\n",
       "      <th>address</th>\n",
       "    </tr>\n",
       "  </thead>\n",
       "  <tbody>\n",
       "    <tr>\n",
       "      <th>1</th>\n",
       "      <td>anshu</td>\n",
       "      <td>dharan</td>\n",
       "    </tr>\n",
       "    <tr>\n",
       "      <th>2</th>\n",
       "      <td>aman</td>\n",
       "      <td>ktm</td>\n",
       "    </tr>\n",
       "    <tr>\n",
       "      <th>3</th>\n",
       "      <td>junu</td>\n",
       "      <td>ktm</td>\n",
       "    </tr>\n",
       "    <tr>\n",
       "      <th>4</th>\n",
       "      <td>anna</td>\n",
       "      <td>ktm</td>\n",
       "    </tr>\n",
       "  </tbody>\n",
       "</table>\n",
       "</div>"
      ],
      "text/plain": [
       "    name address\n",
       "1  anshu  dharan\n",
       "2  aman      ktm\n",
       "3   junu     ktm\n",
       "4   anna     ktm"
      ]
     },
     "execution_count": 12,
     "metadata": {},
     "output_type": "execute_result"
    }
   ],
   "source": [
    "df[['name','address']] # list inside the list for the two columns selections"
   ]
  },
  {
   "cell_type": "markdown",
   "id": "0c118051-0284-4e24-a589-f8eba24f5d7e",
   "metadata": {},
   "source": [
    "# creating of columns "
   ]
  },
  {
   "cell_type": "code",
   "execution_count": 13,
   "id": "7924e1b5-72fa-4f7d-af7f-3e45e7c558b7",
   "metadata": {},
   "outputs": [],
   "source": [
    "df['experince']=[3,4,6,7]"
   ]
  },
  {
   "cell_type": "code",
   "execution_count": 14,
   "id": "03d035ba-0463-4392-93ca-efe5ff500ba5",
   "metadata": {},
   "outputs": [
    {
     "data": {
      "text/html": [
       "<div>\n",
       "<style scoped>\n",
       "    .dataframe tbody tr th:only-of-type {\n",
       "        vertical-align: middle;\n",
       "    }\n",
       "\n",
       "    .dataframe tbody tr th {\n",
       "        vertical-align: top;\n",
       "    }\n",
       "\n",
       "    .dataframe thead th {\n",
       "        text-align: right;\n",
       "    }\n",
       "</style>\n",
       "<table border=\"1\" class=\"dataframe\">\n",
       "  <thead>\n",
       "    <tr style=\"text-align: right;\">\n",
       "      <th></th>\n",
       "      <th>name</th>\n",
       "      <th>age</th>\n",
       "      <th>address</th>\n",
       "      <th>Salary_in_thousands</th>\n",
       "      <th>experince</th>\n",
       "    </tr>\n",
       "  </thead>\n",
       "  <tbody>\n",
       "    <tr>\n",
       "      <th>1</th>\n",
       "      <td>anshu</td>\n",
       "      <td>34</td>\n",
       "      <td>dharan</td>\n",
       "      <td>23</td>\n",
       "      <td>3</td>\n",
       "    </tr>\n",
       "    <tr>\n",
       "      <th>2</th>\n",
       "      <td>aman</td>\n",
       "      <td>23</td>\n",
       "      <td>ktm</td>\n",
       "      <td>34323</td>\n",
       "      <td>4</td>\n",
       "    </tr>\n",
       "    <tr>\n",
       "      <th>3</th>\n",
       "      <td>junu</td>\n",
       "      <td>34</td>\n",
       "      <td>ktm</td>\n",
       "      <td>34534</td>\n",
       "      <td>6</td>\n",
       "    </tr>\n",
       "    <tr>\n",
       "      <th>4</th>\n",
       "      <td>anna</td>\n",
       "      <td>34</td>\n",
       "      <td>ktm</td>\n",
       "      <td>34534</td>\n",
       "      <td>7</td>\n",
       "    </tr>\n",
       "  </tbody>\n",
       "</table>\n",
       "</div>"
      ],
      "text/plain": [
       "    name  age address  Salary_in_thousands  experince\n",
       "1  anshu   34  dharan                   23          3\n",
       "2  aman    23     ktm                34323          4\n",
       "3   junu   34     ktm                34534          6\n",
       "4   anna   34     ktm                34534          7"
      ]
     },
     "execution_count": 14,
     "metadata": {},
     "output_type": "execute_result"
    }
   ],
   "source": [
    "df"
   ]
  },
  {
   "cell_type": "markdown",
   "id": "d928db7c-fc2d-46ff-9983-b51c1712c935",
   "metadata": {},
   "source": [
    "# removing a columns "
   ]
  },
  {
   "cell_type": "code",
   "execution_count": 15,
   "id": "d310a5ea-91aa-468b-a3ce-bb7da619df80",
   "metadata": {
    "scrolled": true
   },
   "outputs": [
    {
     "data": {
      "text/html": [
       "<div>\n",
       "<style scoped>\n",
       "    .dataframe tbody tr th:only-of-type {\n",
       "        vertical-align: middle;\n",
       "    }\n",
       "\n",
       "    .dataframe tbody tr th {\n",
       "        vertical-align: top;\n",
       "    }\n",
       "\n",
       "    .dataframe thead th {\n",
       "        text-align: right;\n",
       "    }\n",
       "</style>\n",
       "<table border=\"1\" class=\"dataframe\">\n",
       "  <thead>\n",
       "    <tr style=\"text-align: right;\">\n",
       "      <th></th>\n",
       "      <th>address</th>\n",
       "      <th>Salary_in_thousands</th>\n",
       "      <th>experince</th>\n",
       "    </tr>\n",
       "  </thead>\n",
       "  <tbody>\n",
       "    <tr>\n",
       "      <th>1</th>\n",
       "      <td>dharan</td>\n",
       "      <td>23</td>\n",
       "      <td>3</td>\n",
       "    </tr>\n",
       "    <tr>\n",
       "      <th>2</th>\n",
       "      <td>ktm</td>\n",
       "      <td>34323</td>\n",
       "      <td>4</td>\n",
       "    </tr>\n",
       "    <tr>\n",
       "      <th>3</th>\n",
       "      <td>ktm</td>\n",
       "      <td>34534</td>\n",
       "      <td>6</td>\n",
       "    </tr>\n",
       "    <tr>\n",
       "      <th>4</th>\n",
       "      <td>ktm</td>\n",
       "      <td>34534</td>\n",
       "      <td>7</td>\n",
       "    </tr>\n",
       "  </tbody>\n",
       "</table>\n",
       "</div>"
      ],
      "text/plain": [
       "  address  Salary_in_thousands  experince\n",
       "1  dharan                   23          3\n",
       "2     ktm                34323          4\n",
       "3     ktm                34534          6\n",
       "4     ktm                34534          7"
      ]
     },
     "execution_count": 15,
     "metadata": {},
     "output_type": "execute_result"
    }
   ],
   "source": [
    "df.drop(columns=['age','name'],inplace=False)"
   ]
  },
  {
   "cell_type": "code",
   "execution_count": 16,
   "id": "84852a1b-8af3-4603-a684-dc28e84abb1c",
   "metadata": {},
   "outputs": [
    {
     "data": {
      "text/html": [
       "<div>\n",
       "<style scoped>\n",
       "    .dataframe tbody tr th:only-of-type {\n",
       "        vertical-align: middle;\n",
       "    }\n",
       "\n",
       "    .dataframe tbody tr th {\n",
       "        vertical-align: top;\n",
       "    }\n",
       "\n",
       "    .dataframe thead th {\n",
       "        text-align: right;\n",
       "    }\n",
       "</style>\n",
       "<table border=\"1\" class=\"dataframe\">\n",
       "  <thead>\n",
       "    <tr style=\"text-align: right;\">\n",
       "      <th></th>\n",
       "      <th>name</th>\n",
       "      <th>age</th>\n",
       "      <th>address</th>\n",
       "      <th>Salary_in_thousands</th>\n",
       "      <th>experince</th>\n",
       "    </tr>\n",
       "  </thead>\n",
       "  <tbody>\n",
       "    <tr>\n",
       "      <th>1</th>\n",
       "      <td>anshu</td>\n",
       "      <td>34</td>\n",
       "      <td>dharan</td>\n",
       "      <td>23</td>\n",
       "      <td>3</td>\n",
       "    </tr>\n",
       "    <tr>\n",
       "      <th>2</th>\n",
       "      <td>aman</td>\n",
       "      <td>23</td>\n",
       "      <td>ktm</td>\n",
       "      <td>34323</td>\n",
       "      <td>4</td>\n",
       "    </tr>\n",
       "    <tr>\n",
       "      <th>3</th>\n",
       "      <td>junu</td>\n",
       "      <td>34</td>\n",
       "      <td>ktm</td>\n",
       "      <td>34534</td>\n",
       "      <td>6</td>\n",
       "    </tr>\n",
       "    <tr>\n",
       "      <th>4</th>\n",
       "      <td>anna</td>\n",
       "      <td>34</td>\n",
       "      <td>ktm</td>\n",
       "      <td>34534</td>\n",
       "      <td>7</td>\n",
       "    </tr>\n",
       "  </tbody>\n",
       "</table>\n",
       "</div>"
      ],
      "text/plain": [
       "    name  age address  Salary_in_thousands  experince\n",
       "1  anshu   34  dharan                   23          3\n",
       "2  aman    23     ktm                34323          4\n",
       "3   junu   34     ktm                34534          6\n",
       "4   anna   34     ktm                34534          7"
      ]
     },
     "execution_count": 16,
     "metadata": {},
     "output_type": "execute_result"
    }
   ],
   "source": [
    "df"
   ]
  },
  {
   "cell_type": "code",
   "execution_count": 17,
   "id": "3736387b-93e2-4d55-bf83-3a1d56fc6d48",
   "metadata": {},
   "outputs": [
    {
     "data": {
      "text/html": [
       "<div>\n",
       "<style scoped>\n",
       "    .dataframe tbody tr th:only-of-type {\n",
       "        vertical-align: middle;\n",
       "    }\n",
       "\n",
       "    .dataframe tbody tr th {\n",
       "        vertical-align: top;\n",
       "    }\n",
       "\n",
       "    .dataframe thead th {\n",
       "        text-align: right;\n",
       "    }\n",
       "</style>\n",
       "<table border=\"1\" class=\"dataframe\">\n",
       "  <thead>\n",
       "    <tr style=\"text-align: right;\">\n",
       "      <th></th>\n",
       "      <th>name</th>\n",
       "      <th>age</th>\n",
       "      <th>address</th>\n",
       "      <th>Salary_in_thousands</th>\n",
       "      <th>experince</th>\n",
       "    </tr>\n",
       "  </thead>\n",
       "  <tbody>\n",
       "    <tr>\n",
       "      <th>2</th>\n",
       "      <td>aman</td>\n",
       "      <td>23</td>\n",
       "      <td>ktm</td>\n",
       "      <td>34323</td>\n",
       "      <td>4</td>\n",
       "    </tr>\n",
       "    <tr>\n",
       "      <th>3</th>\n",
       "      <td>junu</td>\n",
       "      <td>34</td>\n",
       "      <td>ktm</td>\n",
       "      <td>34534</td>\n",
       "      <td>6</td>\n",
       "    </tr>\n",
       "    <tr>\n",
       "      <th>4</th>\n",
       "      <td>anna</td>\n",
       "      <td>34</td>\n",
       "      <td>ktm</td>\n",
       "      <td>34534</td>\n",
       "      <td>7</td>\n",
       "    </tr>\n",
       "  </tbody>\n",
       "</table>\n",
       "</div>"
      ],
      "text/plain": [
       "    name  age address  Salary_in_thousands  experince\n",
       "2  aman    23     ktm                34323          4\n",
       "3   junu   34     ktm                34534          6\n",
       "4   anna   34     ktm                34534          7"
      ]
     },
     "execution_count": 17,
     "metadata": {},
     "output_type": "execute_result"
    }
   ],
   "source": [
    "df.drop('1',axis=0)"
   ]
  },
  {
   "cell_type": "markdown",
   "id": "b5d576f7-6fb2-42ff-8eb1-abf72e048b75",
   "metadata": {},
   "source": [
    "# selecting a row "
   ]
  },
  {
   "cell_type": "code",
   "execution_count": 18,
   "id": "f43efee9-1cb2-40bc-be04-a8d55c6bbfc2",
   "metadata": {},
   "outputs": [
    {
     "data": {
      "text/html": [
       "<div>\n",
       "<style scoped>\n",
       "    .dataframe tbody tr th:only-of-type {\n",
       "        vertical-align: middle;\n",
       "    }\n",
       "\n",
       "    .dataframe tbody tr th {\n",
       "        vertical-align: top;\n",
       "    }\n",
       "\n",
       "    .dataframe thead th {\n",
       "        text-align: right;\n",
       "    }\n",
       "</style>\n",
       "<table border=\"1\" class=\"dataframe\">\n",
       "  <thead>\n",
       "    <tr style=\"text-align: right;\">\n",
       "      <th></th>\n",
       "      <th>name</th>\n",
       "      <th>age</th>\n",
       "      <th>address</th>\n",
       "      <th>Salary_in_thousands</th>\n",
       "      <th>experince</th>\n",
       "    </tr>\n",
       "  </thead>\n",
       "  <tbody>\n",
       "    <tr>\n",
       "      <th>1</th>\n",
       "      <td>anshu</td>\n",
       "      <td>34</td>\n",
       "      <td>dharan</td>\n",
       "      <td>23</td>\n",
       "      <td>3</td>\n",
       "    </tr>\n",
       "    <tr>\n",
       "      <th>2</th>\n",
       "      <td>aman</td>\n",
       "      <td>23</td>\n",
       "      <td>ktm</td>\n",
       "      <td>34323</td>\n",
       "      <td>4</td>\n",
       "    </tr>\n",
       "    <tr>\n",
       "      <th>3</th>\n",
       "      <td>junu</td>\n",
       "      <td>34</td>\n",
       "      <td>ktm</td>\n",
       "      <td>34534</td>\n",
       "      <td>6</td>\n",
       "    </tr>\n",
       "    <tr>\n",
       "      <th>4</th>\n",
       "      <td>anna</td>\n",
       "      <td>34</td>\n",
       "      <td>ktm</td>\n",
       "      <td>34534</td>\n",
       "      <td>7</td>\n",
       "    </tr>\n",
       "  </tbody>\n",
       "</table>\n",
       "</div>"
      ],
      "text/plain": [
       "    name  age address  Salary_in_thousands  experince\n",
       "1  anshu   34  dharan                   23          3\n",
       "2  aman    23     ktm                34323          4\n",
       "3   junu   34     ktm                34534          6\n",
       "4   anna   34     ktm                34534          7"
      ]
     },
     "execution_count": 18,
     "metadata": {},
     "output_type": "execute_result"
    }
   ],
   "source": [
    "df"
   ]
  },
  {
   "cell_type": "code",
   "execution_count": 19,
   "id": "156453f2-caac-4edc-816a-bf2b15dd002b",
   "metadata": {},
   "outputs": [
    {
     "data": {
      "text/html": [
       "<div>\n",
       "<style scoped>\n",
       "    .dataframe tbody tr th:only-of-type {\n",
       "        vertical-align: middle;\n",
       "    }\n",
       "\n",
       "    .dataframe tbody tr th {\n",
       "        vertical-align: top;\n",
       "    }\n",
       "\n",
       "    .dataframe thead th {\n",
       "        text-align: right;\n",
       "    }\n",
       "</style>\n",
       "<table border=\"1\" class=\"dataframe\">\n",
       "  <thead>\n",
       "    <tr style=\"text-align: right;\">\n",
       "      <th></th>\n",
       "      <th>name</th>\n",
       "      <th>age</th>\n",
       "      <th>address</th>\n",
       "      <th>Salary_in_thousands</th>\n",
       "      <th>experince</th>\n",
       "    </tr>\n",
       "  </thead>\n",
       "  <tbody>\n",
       "    <tr>\n",
       "      <th>1</th>\n",
       "      <td>anshu</td>\n",
       "      <td>34</td>\n",
       "      <td>dharan</td>\n",
       "      <td>23</td>\n",
       "      <td>3</td>\n",
       "    </tr>\n",
       "    <tr>\n",
       "      <th>2</th>\n",
       "      <td>aman</td>\n",
       "      <td>23</td>\n",
       "      <td>ktm</td>\n",
       "      <td>34323</td>\n",
       "      <td>4</td>\n",
       "    </tr>\n",
       "  </tbody>\n",
       "</table>\n",
       "</div>"
      ],
      "text/plain": [
       "    name  age address  Salary_in_thousands  experince\n",
       "1  anshu   34  dharan                   23          3\n",
       "2  aman    23     ktm                34323          4"
      ]
     },
     "execution_count": 19,
     "metadata": {},
     "output_type": "execute_result"
    }
   ],
   "source": [
    "df.loc[['1','2']]"
   ]
  },
  {
   "cell_type": "code",
   "execution_count": 20,
   "id": "c3ddd86d-b5d2-45ec-8065-fac08cfd2456",
   "metadata": {},
   "outputs": [
    {
     "data": {
      "text/plain": [
       "name                   aman \n",
       "age                       23\n",
       "address                  ktm\n",
       "Salary_in_thousands    34323\n",
       "experince                  4\n",
       "Name: 2, dtype: object"
      ]
     },
     "execution_count": 20,
     "metadata": {},
     "output_type": "execute_result"
    }
   ],
   "source": [
    "df.iloc[1]"
   ]
  },
  {
   "cell_type": "markdown",
   "id": "c4e28045-cdca-48ea-bb57-d0f96169fd3c",
   "metadata": {},
   "source": [
    "# selecting the subject of series await"
   ]
  },
  {
   "cell_type": "code",
   "execution_count": 21,
   "id": "3eac0db4-8a43-4571-8fee-4baf5c0db692",
   "metadata": {},
   "outputs": [
    {
     "data": {
      "text/html": [
       "<div>\n",
       "<style scoped>\n",
       "    .dataframe tbody tr th:only-of-type {\n",
       "        vertical-align: middle;\n",
       "    }\n",
       "\n",
       "    .dataframe tbody tr th {\n",
       "        vertical-align: top;\n",
       "    }\n",
       "\n",
       "    .dataframe thead th {\n",
       "        text-align: right;\n",
       "    }\n",
       "</style>\n",
       "<table border=\"1\" class=\"dataframe\">\n",
       "  <thead>\n",
       "    <tr style=\"text-align: right;\">\n",
       "      <th></th>\n",
       "      <th>name</th>\n",
       "      <th>age</th>\n",
       "      <th>address</th>\n",
       "      <th>Salary_in_thousands</th>\n",
       "      <th>experince</th>\n",
       "    </tr>\n",
       "  </thead>\n",
       "  <tbody>\n",
       "    <tr>\n",
       "      <th>1</th>\n",
       "      <td>anshu</td>\n",
       "      <td>34</td>\n",
       "      <td>dharan</td>\n",
       "      <td>23</td>\n",
       "      <td>3</td>\n",
       "    </tr>\n",
       "    <tr>\n",
       "      <th>2</th>\n",
       "      <td>aman</td>\n",
       "      <td>23</td>\n",
       "      <td>ktm</td>\n",
       "      <td>34323</td>\n",
       "      <td>4</td>\n",
       "    </tr>\n",
       "    <tr>\n",
       "      <th>3</th>\n",
       "      <td>junu</td>\n",
       "      <td>34</td>\n",
       "      <td>ktm</td>\n",
       "      <td>34534</td>\n",
       "      <td>6</td>\n",
       "    </tr>\n",
       "    <tr>\n",
       "      <th>4</th>\n",
       "      <td>anna</td>\n",
       "      <td>34</td>\n",
       "      <td>ktm</td>\n",
       "      <td>34534</td>\n",
       "      <td>7</td>\n",
       "    </tr>\n",
       "  </tbody>\n",
       "</table>\n",
       "</div>"
      ],
      "text/plain": [
       "    name  age address  Salary_in_thousands  experince\n",
       "1  anshu   34  dharan                   23          3\n",
       "2  aman    23     ktm                34323          4\n",
       "3   junu   34     ktm                34534          6\n",
       "4   anna   34     ktm                34534          7"
      ]
     },
     "execution_count": 21,
     "metadata": {},
     "output_type": "execute_result"
    }
   ],
   "source": [
    "df"
   ]
  },
  {
   "cell_type": "code",
   "execution_count": 22,
   "id": "aed93ab2-a117-46f4-9813-875d70add9ac",
   "metadata": {},
   "outputs": [
    {
     "data": {
      "text/html": [
       "<div>\n",
       "<style scoped>\n",
       "    .dataframe tbody tr th:only-of-type {\n",
       "        vertical-align: middle;\n",
       "    }\n",
       "\n",
       "    .dataframe tbody tr th {\n",
       "        vertical-align: top;\n",
       "    }\n",
       "\n",
       "    .dataframe thead th {\n",
       "        text-align: right;\n",
       "    }\n",
       "</style>\n",
       "<table border=\"1\" class=\"dataframe\">\n",
       "  <thead>\n",
       "    <tr style=\"text-align: right;\">\n",
       "      <th></th>\n",
       "      <th>address</th>\n",
       "      <th>experince</th>\n",
       "    </tr>\n",
       "  </thead>\n",
       "  <tbody>\n",
       "    <tr>\n",
       "      <th>1</th>\n",
       "      <td>dharan</td>\n",
       "      <td>3</td>\n",
       "    </tr>\n",
       "    <tr>\n",
       "      <th>2</th>\n",
       "      <td>ktm</td>\n",
       "      <td>4</td>\n",
       "    </tr>\n",
       "  </tbody>\n",
       "</table>\n",
       "</div>"
      ],
      "text/plain": [
       "  address  experince\n",
       "1  dharan          3\n",
       "2     ktm          4"
      ]
     },
     "execution_count": 22,
     "metadata": {},
     "output_type": "execute_result"
    }
   ],
   "source": [
    "df.iloc[[0,1]][['address','experince']]"
   ]
  },
  {
   "cell_type": "code",
   "execution_count": 23,
   "id": "c9883c05-d021-4ee6-9256-0fb150af393b",
   "metadata": {},
   "outputs": [
    {
     "data": {
      "text/html": [
       "<div>\n",
       "<style scoped>\n",
       "    .dataframe tbody tr th:only-of-type {\n",
       "        vertical-align: middle;\n",
       "    }\n",
       "\n",
       "    .dataframe tbody tr th {\n",
       "        vertical-align: top;\n",
       "    }\n",
       "\n",
       "    .dataframe thead th {\n",
       "        text-align: right;\n",
       "    }\n",
       "</style>\n",
       "<table border=\"1\" class=\"dataframe\">\n",
       "  <thead>\n",
       "    <tr style=\"text-align: right;\">\n",
       "      <th></th>\n",
       "      <th>name</th>\n",
       "      <th>age</th>\n",
       "      <th>Salary_in_thousands</th>\n",
       "    </tr>\n",
       "  </thead>\n",
       "  <tbody>\n",
       "    <tr>\n",
       "      <th>3</th>\n",
       "      <td>junu</td>\n",
       "      <td>34</td>\n",
       "      <td>34534</td>\n",
       "    </tr>\n",
       "    <tr>\n",
       "      <th>4</th>\n",
       "      <td>anna</td>\n",
       "      <td>34</td>\n",
       "      <td>34534</td>\n",
       "    </tr>\n",
       "  </tbody>\n",
       "</table>\n",
       "</div>"
      ],
      "text/plain": [
       "   name  age  Salary_in_thousands\n",
       "3  junu   34                34534\n",
       "4  anna   34                34534"
      ]
     },
     "execution_count": 23,
     "metadata": {},
     "output_type": "execute_result"
    }
   ],
   "source": [
    "df.loc[['3','4']][['name','age','Salary_in_thousands']]"
   ]
  },
  {
   "cell_type": "markdown",
   "id": "d6133669-d461-4db7-974e-2615233e919f",
   "metadata": {},
   "source": [
    "# conditional selecting "
   ]
  },
  {
   "cell_type": "code",
   "execution_count": 24,
   "id": "e034343b-29ed-40c9-b3fd-8d4497e90a64",
   "metadata": {},
   "outputs": [
    {
     "data": {
      "text/html": [
       "<div>\n",
       "<style scoped>\n",
       "    .dataframe tbody tr th:only-of-type {\n",
       "        vertical-align: middle;\n",
       "    }\n",
       "\n",
       "    .dataframe tbody tr th {\n",
       "        vertical-align: top;\n",
       "    }\n",
       "\n",
       "    .dataframe thead th {\n",
       "        text-align: right;\n",
       "    }\n",
       "</style>\n",
       "<table border=\"1\" class=\"dataframe\">\n",
       "  <thead>\n",
       "    <tr style=\"text-align: right;\">\n",
       "      <th></th>\n",
       "      <th>name</th>\n",
       "      <th>age</th>\n",
       "      <th>address</th>\n",
       "      <th>Salary_in_thousands</th>\n",
       "      <th>experince</th>\n",
       "    </tr>\n",
       "  </thead>\n",
       "  <tbody>\n",
       "    <tr>\n",
       "      <th>1</th>\n",
       "      <td>anshu</td>\n",
       "      <td>22</td>\n",
       "      <td>dharan</td>\n",
       "      <td>23</td>\n",
       "      <td>3</td>\n",
       "    </tr>\n",
       "    <tr>\n",
       "      <th>2</th>\n",
       "      <td>aman</td>\n",
       "      <td>25</td>\n",
       "      <td>ktm</td>\n",
       "      <td>34323</td>\n",
       "      <td>4</td>\n",
       "    </tr>\n",
       "    <tr>\n",
       "      <th>3</th>\n",
       "      <td>junu</td>\n",
       "      <td>25</td>\n",
       "      <td>ktm</td>\n",
       "      <td>34534</td>\n",
       "      <td>6</td>\n",
       "    </tr>\n",
       "    <tr>\n",
       "      <th>4</th>\n",
       "      <td>anna</td>\n",
       "      <td>28</td>\n",
       "      <td>ktm</td>\n",
       "      <td>34534</td>\n",
       "      <td>7</td>\n",
       "    </tr>\n",
       "  </tbody>\n",
       "</table>\n",
       "</div>"
      ],
      "text/plain": [
       "    name  age address  Salary_in_thousands  experince\n",
       "1  anshu   22  dharan                   23          3\n",
       "2  aman    25     ktm                34323          4\n",
       "3   junu   25     ktm                34534          6\n",
       "4   anna   28     ktm                34534          7"
      ]
     },
     "execution_count": 24,
     "metadata": {},
     "output_type": "execute_result"
    }
   ],
   "source": [
    "df['age']=[22,25,25,28]\n",
    "df"
   ]
  },
  {
   "cell_type": "code",
   "execution_count": 25,
   "id": "be61086a-5914-42ad-a4c1-d2cc33b99b8b",
   "metadata": {},
   "outputs": [
    {
     "data": {
      "text/html": [
       "<div>\n",
       "<style scoped>\n",
       "    .dataframe tbody tr th:only-of-type {\n",
       "        vertical-align: middle;\n",
       "    }\n",
       "\n",
       "    .dataframe tbody tr th {\n",
       "        vertical-align: top;\n",
       "    }\n",
       "\n",
       "    .dataframe thead th {\n",
       "        text-align: right;\n",
       "    }\n",
       "</style>\n",
       "<table border=\"1\" class=\"dataframe\">\n",
       "  <thead>\n",
       "    <tr style=\"text-align: right;\">\n",
       "      <th></th>\n",
       "      <th>name</th>\n",
       "      <th>age</th>\n",
       "      <th>address</th>\n",
       "      <th>Salary_in_thousands</th>\n",
       "      <th>experince</th>\n",
       "    </tr>\n",
       "  </thead>\n",
       "  <tbody>\n",
       "    <tr>\n",
       "      <th>4</th>\n",
       "      <td>anna</td>\n",
       "      <td>28</td>\n",
       "      <td>ktm</td>\n",
       "      <td>34534</td>\n",
       "      <td>7</td>\n",
       "    </tr>\n",
       "  </tbody>\n",
       "</table>\n",
       "</div>"
      ],
      "text/plain": [
       "   name  age address  Salary_in_thousands  experince\n",
       "4  anna   28     ktm                34534          7"
      ]
     },
     "execution_count": 25,
     "metadata": {},
     "output_type": "execute_result"
    }
   ],
   "source": [
    "df[df['age']>27]"
   ]
  },
  {
   "cell_type": "code",
   "execution_count": 31,
   "id": "ba2b41c3-39e9-41be-8a15-d1b80d4e0e33",
   "metadata": {},
   "outputs": [
    {
     "data": {
      "text/html": [
       "<div>\n",
       "<style scoped>\n",
       "    .dataframe tbody tr th:only-of-type {\n",
       "        vertical-align: middle;\n",
       "    }\n",
       "\n",
       "    .dataframe tbody tr th {\n",
       "        vertical-align: top;\n",
       "    }\n",
       "\n",
       "    .dataframe thead th {\n",
       "        text-align: right;\n",
       "    }\n",
       "</style>\n",
       "<table border=\"1\" class=\"dataframe\">\n",
       "  <thead>\n",
       "    <tr style=\"text-align: right;\">\n",
       "      <th></th>\n",
       "      <th>name</th>\n",
       "      <th>age</th>\n",
       "      <th>address</th>\n",
       "      <th>Salary_in_thousands</th>\n",
       "      <th>experince</th>\n",
       "    </tr>\n",
       "  </thead>\n",
       "  <tbody>\n",
       "    <tr>\n",
       "      <th>4</th>\n",
       "      <td>anna</td>\n",
       "      <td>28</td>\n",
       "      <td>ktm</td>\n",
       "      <td>34534</td>\n",
       "      <td>7</td>\n",
       "    </tr>\n",
       "  </tbody>\n",
       "</table>\n",
       "</div>"
      ],
      "text/plain": [
       "   name  age address  Salary_in_thousands  experince\n",
       "4  anna   28     ktm                34534          7"
      ]
     },
     "execution_count": 31,
     "metadata": {},
     "output_type": "execute_result"
    }
   ],
   "source": [
    "df[(df['age']>26) & (df[\"address\"] ==\"ktm\")] # for the erros use the parenthesis for the error fixing \n"
   ]
  },
  {
   "cell_type": "code",
   "execution_count": null,
   "id": "59a382d4-5008-4b70-a194-d1d3f74c79de",
   "metadata": {},
   "outputs": [],
   "source": []
  },
  {
   "cell_type": "code",
   "execution_count": null,
   "id": "a2ce893b-cb3c-45dd-bbca-dc2f4eadd598",
   "metadata": {},
   "outputs": [],
   "source": []
  },
  {
   "cell_type": "code",
   "execution_count": null,
   "id": "b5ce9dbe-fab6-4beb-a053-e1763fc0ab9a",
   "metadata": {},
   "outputs": [],
   "source": []
  }
 ],
 "metadata": {
  "kernelspec": {
   "display_name": "Python 3 (ipykernel)",
   "language": "python",
   "name": "python3"
  },
  "language_info": {
   "codemirror_mode": {
    "name": "ipython",
    "version": 3
   },
   "file_extension": ".py",
   "mimetype": "text/x-python",
   "name": "python",
   "nbconvert_exporter": "python",
   "pygments_lexer": "ipython3",
   "version": "3.13.2"
  }
 },
 "nbformat": 4,
 "nbformat_minor": 5
}
